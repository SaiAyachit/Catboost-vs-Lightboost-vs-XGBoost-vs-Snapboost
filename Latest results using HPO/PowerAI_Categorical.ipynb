{
 "cells": [
  {
   "cell_type": "code",
   "execution_count": 1,
   "metadata": {},
   "outputs": [],
   "source": [
    "import warnings\n",
    "warnings.filterwarnings(\"ignore\")\n",
    "# Importing Dependencies\n",
    "import numpy as np\n",
    "import pandas as pd\n",
    "import sys\n",
    "import os\n",
    "from datetime import datetime\n",
    "import matplotlib as mpl\n",
    "import seaborn as sns\n",
    "from matplotlib import pyplot as plt\n",
    "from sklearn.model_selection import train_test_split\n",
    "from sklearn.metrics import accuracy_score \n",
    "import lightgbm as lgb\n",
    "from sklearn.metrics import roc_auc_score\n",
    "from pai4sk import BoostingMachine\n",
    "from xgboost import XGBClassifier\n",
    "from sklearn.model_selection import StratifiedKFold\n",
    "from sklearn.model_selection import cross_val_score\n",
    "\n",
    "from hyperopt import hp, fmin, tpe, STATUS_OK, Trials"
   ]
  },
  {
   "cell_type": "code",
   "execution_count": 2,
   "metadata": {},
   "outputs": [],
   "source": [
    "input_path = 'pokemon_categorical.csv'"
   ]
  },
  {
   "cell_type": "code",
   "execution_count": 3,
   "metadata": {},
   "outputs": [],
   "source": [
    "pokemon_df = pd.read_csv(input_path)"
   ]
  },
  {
   "cell_type": "code",
   "execution_count": 4,
   "metadata": {},
   "outputs": [
    {
     "name": "stdout",
     "output_type": "stream",
     "text": [
      "<class 'pandas.core.frame.DataFrame'>\n",
      "RangeIndex: 801 entries, 0 to 800\n",
      "Data columns (total 41 columns):\n",
      " #   Column             Non-Null Count  Dtype  \n",
      "---  ------             --------------  -----  \n",
      " 0   abilities          801 non-null    object \n",
      " 1   against_bug        801 non-null    float64\n",
      " 2   against_dark       801 non-null    float64\n",
      " 3   against_dragon     801 non-null    float64\n",
      " 4   against_electric   801 non-null    float64\n",
      " 5   against_fairy      801 non-null    float64\n",
      " 6   against_fight      801 non-null    float64\n",
      " 7   against_fire       801 non-null    float64\n",
      " 8   against_flying     801 non-null    float64\n",
      " 9   against_ghost      801 non-null    float64\n",
      " 10  against_grass      801 non-null    float64\n",
      " 11  against_ground     801 non-null    float64\n",
      " 12  against_ice        801 non-null    float64\n",
      " 13  against_normal     801 non-null    float64\n",
      " 14  against_poison     801 non-null    float64\n",
      " 15  against_psychic    801 non-null    float64\n",
      " 16  against_rock       801 non-null    float64\n",
      " 17  against_steel      801 non-null    float64\n",
      " 18  against_water      801 non-null    float64\n",
      " 19  attack             801 non-null    int64  \n",
      " 20  base_egg_steps     801 non-null    int64  \n",
      " 21  base_happiness     801 non-null    int64  \n",
      " 22  base_total         801 non-null    int64  \n",
      " 23  capture_rate       801 non-null    int64  \n",
      " 24  classfication      801 non-null    object \n",
      " 25  defense            801 non-null    int64  \n",
      " 26  experience_growth  801 non-null    int64  \n",
      " 27  height_m           781 non-null    float64\n",
      " 28  hp                 801 non-null    int64  \n",
      " 29  japanese_name      801 non-null    object \n",
      " 30  name               801 non-null    object \n",
      " 31  percentage_male    703 non-null    float64\n",
      " 32  pokedex_number     801 non-null    int64  \n",
      " 33  sp_attack          801 non-null    int64  \n",
      " 34  sp_defense         801 non-null    int64  \n",
      " 35  speed              801 non-null    int64  \n",
      " 36  type1              801 non-null    object \n",
      " 37  type2              417 non-null    object \n",
      " 38  weight_kg          781 non-null    float64\n",
      " 39  generation         801 non-null    int64  \n",
      " 40  is_legendary       801 non-null    int64  \n",
      "dtypes: float64(21), int64(14), object(6)\n",
      "memory usage: 256.7+ KB\n"
     ]
    }
   ],
   "source": [
    "#basic info of dataset\n",
    "df2 = pokemon_df.select_dtypes(include = ['float64', 'int64'])\n",
    "df3 = pokemon_df.select_dtypes(include = ['object'])\n",
    "pokemon_df.info()"
   ]
  },
  {
   "cell_type": "code",
   "execution_count": 5,
   "metadata": {},
   "outputs": [
    {
     "name": "stdout",
     "output_type": "stream",
     "text": [
      "<class 'pandas.core.frame.DataFrame'>\n",
      "RangeIndex: 801 entries, 0 to 800\n",
      "Data columns (total 35 columns):\n",
      " #   Column             Non-Null Count  Dtype  \n",
      "---  ------             --------------  -----  \n",
      " 0   against_bug        801 non-null    float64\n",
      " 1   against_dark       801 non-null    float64\n",
      " 2   against_dragon     801 non-null    float64\n",
      " 3   against_electric   801 non-null    float64\n",
      " 4   against_fairy      801 non-null    float64\n",
      " 5   against_fight      801 non-null    float64\n",
      " 6   against_fire       801 non-null    float64\n",
      " 7   against_flying     801 non-null    float64\n",
      " 8   against_ghost      801 non-null    float64\n",
      " 9   against_grass      801 non-null    float64\n",
      " 10  against_ground     801 non-null    float64\n",
      " 11  against_ice        801 non-null    float64\n",
      " 12  against_normal     801 non-null    float64\n",
      " 13  against_poison     801 non-null    float64\n",
      " 14  against_psychic    801 non-null    float64\n",
      " 15  against_rock       801 non-null    float64\n",
      " 16  against_steel      801 non-null    float64\n",
      " 17  against_water      801 non-null    float64\n",
      " 18  attack             801 non-null    int64  \n",
      " 19  base_egg_steps     801 non-null    int64  \n",
      " 20  base_happiness     801 non-null    int64  \n",
      " 21  base_total         801 non-null    int64  \n",
      " 22  capture_rate       801 non-null    int64  \n",
      " 23  defense            801 non-null    int64  \n",
      " 24  experience_growth  801 non-null    int64  \n",
      " 25  height_m           781 non-null    float64\n",
      " 26  hp                 801 non-null    int64  \n",
      " 27  percentage_male    703 non-null    float64\n",
      " 28  pokedex_number     801 non-null    int64  \n",
      " 29  sp_attack          801 non-null    int64  \n",
      " 30  sp_defense         801 non-null    int64  \n",
      " 31  speed              801 non-null    int64  \n",
      " 32  weight_kg          781 non-null    float64\n",
      " 33  generation         801 non-null    int64  \n",
      " 34  is_legendary       801 non-null    int64  \n",
      "dtypes: float64(21), int64(14)\n",
      "memory usage: 219.1 KB\n"
     ]
    }
   ],
   "source": [
    "df2.info()"
   ]
  },
  {
   "cell_type": "code",
   "execution_count": 6,
   "metadata": {},
   "outputs": [
    {
     "name": "stdout",
     "output_type": "stream",
     "text": [
      "<class 'pandas.core.frame.DataFrame'>\n",
      "RangeIndex: 801 entries, 0 to 800\n",
      "Data columns (total 6 columns):\n",
      " #   Column         Non-Null Count  Dtype \n",
      "---  ------         --------------  ----- \n",
      " 0   abilities      801 non-null    object\n",
      " 1   classfication  801 non-null    object\n",
      " 2   japanese_name  801 non-null    object\n",
      " 3   name           801 non-null    object\n",
      " 4   type1          801 non-null    object\n",
      " 5   type2          417 non-null    object\n",
      "dtypes: object(6)\n",
      "memory usage: 37.7+ KB\n"
     ]
    }
   ],
   "source": [
    "df3.info()"
   ]
  },
  {
   "cell_type": "code",
   "execution_count": 7,
   "metadata": {},
   "outputs": [
    {
     "data": {
      "text/html": [
       "<div>\n",
       "<style scoped>\n",
       "    .dataframe tbody tr th:only-of-type {\n",
       "        vertical-align: middle;\n",
       "    }\n",
       "\n",
       "    .dataframe tbody tr th {\n",
       "        vertical-align: top;\n",
       "    }\n",
       "\n",
       "    .dataframe thead th {\n",
       "        text-align: right;\n",
       "    }\n",
       "</style>\n",
       "<table border=\"1\" class=\"dataframe\">\n",
       "  <thead>\n",
       "    <tr style=\"text-align: right;\">\n",
       "      <th></th>\n",
       "      <th>abilities</th>\n",
       "      <th>classfication</th>\n",
       "      <th>japanese_name</th>\n",
       "      <th>name</th>\n",
       "      <th>type1</th>\n",
       "      <th>type2</th>\n",
       "    </tr>\n",
       "  </thead>\n",
       "  <tbody>\n",
       "    <tr>\n",
       "      <th>0</th>\n",
       "      <td>['Overgrow', 'Chlorophyll']</td>\n",
       "      <td>Seed Pokémon</td>\n",
       "      <td>Fushigidaneフシギダネ</td>\n",
       "      <td>Bulbasaur</td>\n",
       "      <td>grass</td>\n",
       "      <td>poison</td>\n",
       "    </tr>\n",
       "    <tr>\n",
       "      <th>1</th>\n",
       "      <td>['Overgrow', 'Chlorophyll']</td>\n",
       "      <td>Seed Pokémon</td>\n",
       "      <td>Fushigisouフシギソウ</td>\n",
       "      <td>Ivysaur</td>\n",
       "      <td>grass</td>\n",
       "      <td>poison</td>\n",
       "    </tr>\n",
       "    <tr>\n",
       "      <th>2</th>\n",
       "      <td>['Overgrow', 'Chlorophyll']</td>\n",
       "      <td>Seed Pokémon</td>\n",
       "      <td>Fushigibanaフシギバナ</td>\n",
       "      <td>Venusaur</td>\n",
       "      <td>grass</td>\n",
       "      <td>poison</td>\n",
       "    </tr>\n",
       "    <tr>\n",
       "      <th>3</th>\n",
       "      <td>['Blaze', 'Solar Power']</td>\n",
       "      <td>Lizard Pokémon</td>\n",
       "      <td>Hitokageヒトカゲ</td>\n",
       "      <td>Charmander</td>\n",
       "      <td>fire</td>\n",
       "      <td>NaN</td>\n",
       "    </tr>\n",
       "    <tr>\n",
       "      <th>4</th>\n",
       "      <td>['Blaze', 'Solar Power']</td>\n",
       "      <td>Flame Pokémon</td>\n",
       "      <td>Lizardoリザード</td>\n",
       "      <td>Charmeleon</td>\n",
       "      <td>fire</td>\n",
       "      <td>NaN</td>\n",
       "    </tr>\n",
       "  </tbody>\n",
       "</table>\n",
       "</div>"
      ],
      "text/plain": [
       "                     abilities   classfication     japanese_name        name  \\\n",
       "0  ['Overgrow', 'Chlorophyll']    Seed Pokémon  Fushigidaneフシギダネ   Bulbasaur   \n",
       "1  ['Overgrow', 'Chlorophyll']    Seed Pokémon   Fushigisouフシギソウ     Ivysaur   \n",
       "2  ['Overgrow', 'Chlorophyll']    Seed Pokémon  Fushigibanaフシギバナ    Venusaur   \n",
       "3     ['Blaze', 'Solar Power']  Lizard Pokémon      Hitokageヒトカゲ  Charmander   \n",
       "4     ['Blaze', 'Solar Power']   Flame Pokémon       Lizardoリザード  Charmeleon   \n",
       "\n",
       "   type1   type2  \n",
       "0  grass  poison  \n",
       "1  grass  poison  \n",
       "2  grass  poison  \n",
       "3   fire     NaN  \n",
       "4   fire     NaN  "
      ]
     },
     "execution_count": 7,
     "metadata": {},
     "output_type": "execute_result"
    }
   ],
   "source": [
    "df3.head()"
   ]
  },
  {
   "cell_type": "code",
   "execution_count": 8,
   "metadata": {},
   "outputs": [
    {
     "name": "stdout",
     "output_type": "stream",
     "text": [
      "18\n",
      "['bug' 'dark' 'dragon' 'electric' 'fairy' 'fighting' 'fire' 'flying'\n",
      " 'ghost' 'grass' 'ground' 'ice' 'normal' 'poison' 'psychic' 'rock' 'steel'\n",
      " 'water']\n"
     ]
    }
   ],
   "source": [
    "## from preprocessing, use LabelEncoder, we want to encode \n",
    "from sklearn import preprocessing \n",
    "le = preprocessing.LabelEncoder() \n",
    "labels = le.fit_transform(pokemon_df['type1'])\n",
    "print(len(le.classes_)) \n",
    "print(le.classes_)"
   ]
  },
  {
   "cell_type": "code",
   "execution_count": 9,
   "metadata": {},
   "outputs": [
    {
     "data": {
      "text/plain": [
       "water       114\n",
       "normal      105\n",
       "grass        78\n",
       "bug          72\n",
       "psychic      53\n",
       "fire         52\n",
       "rock         45\n",
       "electric     39\n",
       "ground       32\n",
       "poison       32\n",
       "dark         29\n",
       "fighting     28\n",
       "dragon       27\n",
       "ghost        27\n",
       "steel        24\n",
       "ice          23\n",
       "fairy        18\n",
       "flying        3\n",
       "Name: type1, dtype: int64"
      ]
     },
     "execution_count": 9,
     "metadata": {},
     "output_type": "execute_result"
    },
    {
     "data": {
      "image/png": "[encoded data removed]",
      "text/plain": [
       "<Figure size 432x288 with 1 Axes>"
      ]
     },
     "metadata": {
      "needs_background": "light"
     },
     "output_type": "display_data"
    }
   ],
   "source": [
    "pokemon_df.type1.value_counts().plot.bar()\n",
    "pokemon_df.type1.value_counts()"
   ]
  },
  {
   "cell_type": "code",
   "execution_count": 10,
   "metadata": {},
   "outputs": [
    {
     "data": {
      "text/plain": [
       "flying      95\n",
       "poison      34\n",
       "ground      34\n",
       "psychic     29\n",
       "fairy       29\n",
       "fighting    25\n",
       "steel       22\n",
       "dark        21\n",
       "grass       20\n",
       "dragon      17\n",
       "water       17\n",
       "ice         15\n",
       "ghost       14\n",
       "rock        14\n",
       "fire        13\n",
       "electric     9\n",
       "bug          5\n",
       "normal       4\n",
       "Name: type2, dtype: int64"
      ]
     },
     "execution_count": 10,
     "metadata": {},
     "output_type": "execute_result"
    },
    {
     "data": {
      "image/png": "[encoded data removed]",
      "text/plain": [
       "<Figure size 432x288 with 1 Axes>"
      ]
     },
     "metadata": {
      "needs_background": "light"
     },
     "output_type": "display_data"
    }
   ],
   "source": [
    "pokemon_df.type2.value_counts().plot.bar()\n",
    "pokemon_df.type2.value_counts()"
   ]
  },
  {
   "cell_type": "code",
   "execution_count": 11,
   "metadata": {},
   "outputs": [
    {
     "data": {
      "text/plain": [
       "<matplotlib.axes._subplots.AxesSubplot at 0x7fff4a589e90>"
      ]
     },
     "execution_count": 11,
     "metadata": {},
     "output_type": "execute_result"
    },
    {
     "data": {
      "image/png": "[encoded data removed]",
      "text/plain": [
       "<Figure size 432x288 with 1 Axes>"
      ]
     },
     "metadata": {
      "needs_background": "light"
     },
     "output_type": "display_data"
    }
   ],
   "source": [
    "# and the accurate plot, keep in mind not every pokemon has 2 types\n",
    "(pokemon_df.type1.value_counts() + pokemon_df.type2.value_counts()).plot.bar()\n",
    "## and the accurate plot, keep in mind not every pokemon has 2 types\n",
    "(pokemon_df.type1.value_counts() + pokemon_df.type2.value_counts()).plot.bar()"
   ]
  },
  {
   "cell_type": "code",
   "execution_count": 12,
   "metadata": {},
   "outputs": [],
   "source": [
    "pokemon_df['type2'].fillna(value='None', inplace=True)"
   ]
  },
  {
   "cell_type": "code",
   "execution_count": 13,
   "metadata": {},
   "outputs": [
    {
     "name": "stdout",
     "output_type": "stream",
     "text": [
      "Number of unique abilities:  56\n"
     ]
    }
   ],
   "source": [
    "abilitiesList = []\n",
    "for n in range(len(pokemon_df.abilities)):\n",
    "    for ability in pokemon_df.abilities.iloc[n]:\n",
    "        if ability not in abilitiesList:\n",
    "            abilitiesList.append(ability)\n",
    "            \n",
    "print('Number of unique abilities: ', len(abilitiesList))"
   ]
  },
  {
   "cell_type": "code",
   "execution_count": 14,
   "metadata": {},
   "outputs": [
    {
     "name": "stdout",
     "output_type": "stream",
     "text": [
      "['against_bug', 'against_dark', 'against_dragon', 'against_electric', 'against_fairy', 'against_fight', 'against_fire', 'against_flying', 'against_ghost', 'against_grass', 'against_ground', 'against_ice', 'against_normal', 'against_poison', 'against_psychic', 'against_rock', 'against_steel', 'against_water', 'attack', 'defense', 'sp_attack', 'sp_defense', 'attack x defense', 'type2']\n"
     ]
    },
    {
     "data": {
      "text/html": [
       "<div>\n",
       "<style scoped>\n",
       "    .dataframe tbody tr th:only-of-type {\n",
       "        vertical-align: middle;\n",
       "    }\n",
       "\n",
       "    .dataframe tbody tr th {\n",
       "        vertical-align: top;\n",
       "    }\n",
       "\n",
       "    .dataframe thead th {\n",
       "        text-align: right;\n",
       "    }\n",
       "</style>\n",
       "<table border=\"1\" class=\"dataframe\">\n",
       "  <thead>\n",
       "    <tr style=\"text-align: right;\">\n",
       "      <th></th>\n",
       "      <th>against_bug</th>\n",
       "      <th>against_dark</th>\n",
       "      <th>against_dragon</th>\n",
       "      <th>against_electric</th>\n",
       "      <th>against_fairy</th>\n",
       "      <th>against_fight</th>\n",
       "      <th>against_fire</th>\n",
       "      <th>against_flying</th>\n",
       "      <th>against_ghost</th>\n",
       "      <th>against_grass</th>\n",
       "      <th>...</th>\n",
       "      <th>against_psychic</th>\n",
       "      <th>against_rock</th>\n",
       "      <th>against_steel</th>\n",
       "      <th>against_water</th>\n",
       "      <th>attack</th>\n",
       "      <th>defense</th>\n",
       "      <th>sp_attack</th>\n",
       "      <th>sp_defense</th>\n",
       "      <th>attack x defense</th>\n",
       "      <th>type2</th>\n",
       "    </tr>\n",
       "  </thead>\n",
       "  <tbody>\n",
       "    <tr>\n",
       "      <th>0</th>\n",
       "      <td>1.00</td>\n",
       "      <td>1.0</td>\n",
       "      <td>1.0</td>\n",
       "      <td>0.5</td>\n",
       "      <td>0.5</td>\n",
       "      <td>0.5</td>\n",
       "      <td>2.0</td>\n",
       "      <td>2.0</td>\n",
       "      <td>1.0</td>\n",
       "      <td>0.25</td>\n",
       "      <td>...</td>\n",
       "      <td>2.0</td>\n",
       "      <td>1.0</td>\n",
       "      <td>1.0</td>\n",
       "      <td>0.5</td>\n",
       "      <td>49</td>\n",
       "      <td>49</td>\n",
       "      <td>65</td>\n",
       "      <td>65</td>\n",
       "      <td>2401</td>\n",
       "      <td>poison</td>\n",
       "    </tr>\n",
       "    <tr>\n",
       "      <th>1</th>\n",
       "      <td>1.00</td>\n",
       "      <td>1.0</td>\n",
       "      <td>1.0</td>\n",
       "      <td>0.5</td>\n",
       "      <td>0.5</td>\n",
       "      <td>0.5</td>\n",
       "      <td>2.0</td>\n",
       "      <td>2.0</td>\n",
       "      <td>1.0</td>\n",
       "      <td>0.25</td>\n",
       "      <td>...</td>\n",
       "      <td>2.0</td>\n",
       "      <td>1.0</td>\n",
       "      <td>1.0</td>\n",
       "      <td>0.5</td>\n",
       "      <td>62</td>\n",
       "      <td>63</td>\n",
       "      <td>80</td>\n",
       "      <td>80</td>\n",
       "      <td>3906</td>\n",
       "      <td>poison</td>\n",
       "    </tr>\n",
       "    <tr>\n",
       "      <th>2</th>\n",
       "      <td>1.00</td>\n",
       "      <td>1.0</td>\n",
       "      <td>1.0</td>\n",
       "      <td>0.5</td>\n",
       "      <td>0.5</td>\n",
       "      <td>0.5</td>\n",
       "      <td>2.0</td>\n",
       "      <td>2.0</td>\n",
       "      <td>1.0</td>\n",
       "      <td>0.25</td>\n",
       "      <td>...</td>\n",
       "      <td>2.0</td>\n",
       "      <td>1.0</td>\n",
       "      <td>1.0</td>\n",
       "      <td>0.5</td>\n",
       "      <td>100</td>\n",
       "      <td>123</td>\n",
       "      <td>122</td>\n",
       "      <td>120</td>\n",
       "      <td>12300</td>\n",
       "      <td>poison</td>\n",
       "    </tr>\n",
       "    <tr>\n",
       "      <th>3</th>\n",
       "      <td>0.50</td>\n",
       "      <td>1.0</td>\n",
       "      <td>1.0</td>\n",
       "      <td>1.0</td>\n",
       "      <td>0.5</td>\n",
       "      <td>1.0</td>\n",
       "      <td>0.5</td>\n",
       "      <td>1.0</td>\n",
       "      <td>1.0</td>\n",
       "      <td>0.50</td>\n",
       "      <td>...</td>\n",
       "      <td>1.0</td>\n",
       "      <td>2.0</td>\n",
       "      <td>0.5</td>\n",
       "      <td>2.0</td>\n",
       "      <td>52</td>\n",
       "      <td>43</td>\n",
       "      <td>60</td>\n",
       "      <td>50</td>\n",
       "      <td>2236</td>\n",
       "      <td>None</td>\n",
       "    </tr>\n",
       "    <tr>\n",
       "      <th>4</th>\n",
       "      <td>0.50</td>\n",
       "      <td>1.0</td>\n",
       "      <td>1.0</td>\n",
       "      <td>1.0</td>\n",
       "      <td>0.5</td>\n",
       "      <td>1.0</td>\n",
       "      <td>0.5</td>\n",
       "      <td>1.0</td>\n",
       "      <td>1.0</td>\n",
       "      <td>0.50</td>\n",
       "      <td>...</td>\n",
       "      <td>1.0</td>\n",
       "      <td>2.0</td>\n",
       "      <td>0.5</td>\n",
       "      <td>2.0</td>\n",
       "      <td>64</td>\n",
       "      <td>58</td>\n",
       "      <td>80</td>\n",
       "      <td>65</td>\n",
       "      <td>3712</td>\n",
       "      <td>None</td>\n",
       "    </tr>\n",
       "    <tr>\n",
       "      <th>...</th>\n",
       "      <td>...</td>\n",
       "      <td>...</td>\n",
       "      <td>...</td>\n",
       "      <td>...</td>\n",
       "      <td>...</td>\n",
       "      <td>...</td>\n",
       "      <td>...</td>\n",
       "      <td>...</td>\n",
       "      <td>...</td>\n",
       "      <td>...</td>\n",
       "      <td>...</td>\n",
       "      <td>...</td>\n",
       "      <td>...</td>\n",
       "      <td>...</td>\n",
       "      <td>...</td>\n",
       "      <td>...</td>\n",
       "      <td>...</td>\n",
       "      <td>...</td>\n",
       "      <td>...</td>\n",
       "      <td>...</td>\n",
       "      <td>...</td>\n",
       "    </tr>\n",
       "    <tr>\n",
       "      <th>796</th>\n",
       "      <td>0.25</td>\n",
       "      <td>1.0</td>\n",
       "      <td>0.5</td>\n",
       "      <td>2.0</td>\n",
       "      <td>0.5</td>\n",
       "      <td>1.0</td>\n",
       "      <td>2.0</td>\n",
       "      <td>0.5</td>\n",
       "      <td>1.0</td>\n",
       "      <td>0.25</td>\n",
       "      <td>...</td>\n",
       "      <td>0.5</td>\n",
       "      <td>1.0</td>\n",
       "      <td>0.5</td>\n",
       "      <td>1.0</td>\n",
       "      <td>101</td>\n",
       "      <td>103</td>\n",
       "      <td>107</td>\n",
       "      <td>101</td>\n",
       "      <td>10403</td>\n",
       "      <td>flying</td>\n",
       "    </tr>\n",
       "    <tr>\n",
       "      <th>797</th>\n",
       "      <td>1.00</td>\n",
       "      <td>1.0</td>\n",
       "      <td>0.5</td>\n",
       "      <td>0.5</td>\n",
       "      <td>0.5</td>\n",
       "      <td>2.0</td>\n",
       "      <td>4.0</td>\n",
       "      <td>1.0</td>\n",
       "      <td>1.0</td>\n",
       "      <td>0.25</td>\n",
       "      <td>...</td>\n",
       "      <td>0.5</td>\n",
       "      <td>0.5</td>\n",
       "      <td>0.5</td>\n",
       "      <td>0.5</td>\n",
       "      <td>181</td>\n",
       "      <td>131</td>\n",
       "      <td>59</td>\n",
       "      <td>31</td>\n",
       "      <td>23711</td>\n",
       "      <td>steel</td>\n",
       "    </tr>\n",
       "    <tr>\n",
       "      <th>798</th>\n",
       "      <td>2.00</td>\n",
       "      <td>0.5</td>\n",
       "      <td>2.0</td>\n",
       "      <td>0.5</td>\n",
       "      <td>4.0</td>\n",
       "      <td>2.0</td>\n",
       "      <td>0.5</td>\n",
       "      <td>1.0</td>\n",
       "      <td>0.5</td>\n",
       "      <td>0.50</td>\n",
       "      <td>...</td>\n",
       "      <td>0.0</td>\n",
       "      <td>1.0</td>\n",
       "      <td>1.0</td>\n",
       "      <td>0.5</td>\n",
       "      <td>101</td>\n",
       "      <td>53</td>\n",
       "      <td>97</td>\n",
       "      <td>53</td>\n",
       "      <td>5353</td>\n",
       "      <td>dragon</td>\n",
       "    </tr>\n",
       "    <tr>\n",
       "      <th>799</th>\n",
       "      <td>2.00</td>\n",
       "      <td>2.0</td>\n",
       "      <td>1.0</td>\n",
       "      <td>1.0</td>\n",
       "      <td>1.0</td>\n",
       "      <td>0.5</td>\n",
       "      <td>1.0</td>\n",
       "      <td>1.0</td>\n",
       "      <td>2.0</td>\n",
       "      <td>1.00</td>\n",
       "      <td>...</td>\n",
       "      <td>0.5</td>\n",
       "      <td>1.0</td>\n",
       "      <td>1.0</td>\n",
       "      <td>1.0</td>\n",
       "      <td>107</td>\n",
       "      <td>101</td>\n",
       "      <td>127</td>\n",
       "      <td>89</td>\n",
       "      <td>10807</td>\n",
       "      <td>None</td>\n",
       "    </tr>\n",
       "    <tr>\n",
       "      <th>800</th>\n",
       "      <td>0.25</td>\n",
       "      <td>0.5</td>\n",
       "      <td>0.0</td>\n",
       "      <td>1.0</td>\n",
       "      <td>0.5</td>\n",
       "      <td>1.0</td>\n",
       "      <td>2.0</td>\n",
       "      <td>0.5</td>\n",
       "      <td>1.0</td>\n",
       "      <td>0.50</td>\n",
       "      <td>...</td>\n",
       "      <td>0.5</td>\n",
       "      <td>0.5</td>\n",
       "      <td>1.0</td>\n",
       "      <td>1.0</td>\n",
       "      <td>95</td>\n",
       "      <td>115</td>\n",
       "      <td>130</td>\n",
       "      <td>115</td>\n",
       "      <td>10925</td>\n",
       "      <td>fairy</td>\n",
       "    </tr>\n",
       "  </tbody>\n",
       "</table>\n",
       "<p>801 rows × 24 columns</p>\n",
       "</div>"
      ],
      "text/plain": [
       "     against_bug  against_dark  against_dragon  against_electric  \\\n",
       "0           1.00           1.0             1.0               0.5   \n",
       "1           1.00           1.0             1.0               0.5   \n",
       "2           1.00           1.0             1.0               0.5   \n",
       "3           0.50           1.0             1.0               1.0   \n",
       "4           0.50           1.0             1.0               1.0   \n",
       "..           ...           ...             ...               ...   \n",
       "796         0.25           1.0             0.5               2.0   \n",
       "797         1.00           1.0             0.5               0.5   \n",
       "798         2.00           0.5             2.0               0.5   \n",
       "799         2.00           2.0             1.0               1.0   \n",
       "800         0.25           0.5             0.0               1.0   \n",
       "\n",
       "     against_fairy  against_fight  against_fire  against_flying  \\\n",
       "0              0.5            0.5           2.0             2.0   \n",
       "1              0.5            0.5           2.0             2.0   \n",
       "2              0.5            0.5           2.0             2.0   \n",
       "3              0.5            1.0           0.5             1.0   \n",
       "4              0.5            1.0           0.5             1.0   \n",
       "..             ...            ...           ...             ...   \n",
       "796            0.5            1.0           2.0             0.5   \n",
       "797            0.5            2.0           4.0             1.0   \n",
       "798            4.0            2.0           0.5             1.0   \n",
       "799            1.0            0.5           1.0             1.0   \n",
       "800            0.5            1.0           2.0             0.5   \n",
       "\n",
       "     against_ghost  against_grass  ...  against_psychic  against_rock  \\\n",
       "0              1.0           0.25  ...              2.0           1.0   \n",
       "1              1.0           0.25  ...              2.0           1.0   \n",
       "2              1.0           0.25  ...              2.0           1.0   \n",
       "3              1.0           0.50  ...              1.0           2.0   \n",
       "4              1.0           0.50  ...              1.0           2.0   \n",
       "..             ...            ...  ...              ...           ...   \n",
       "796            1.0           0.25  ...              0.5           1.0   \n",
       "797            1.0           0.25  ...              0.5           0.5   \n",
       "798            0.5           0.50  ...              0.0           1.0   \n",
       "799            2.0           1.00  ...              0.5           1.0   \n",
       "800            1.0           0.50  ...              0.5           0.5   \n",
       "\n",
       "     against_steel  against_water  attack  defense  sp_attack  sp_defense  \\\n",
       "0              1.0            0.5      49       49         65          65   \n",
       "1              1.0            0.5      62       63         80          80   \n",
       "2              1.0            0.5     100      123        122         120   \n",
       "3              0.5            2.0      52       43         60          50   \n",
       "4              0.5            2.0      64       58         80          65   \n",
       "..             ...            ...     ...      ...        ...         ...   \n",
       "796            0.5            1.0     101      103        107         101   \n",
       "797            0.5            0.5     181      131         59          31   \n",
       "798            1.0            0.5     101       53         97          53   \n",
       "799            1.0            1.0     107      101        127          89   \n",
       "800            1.0            1.0      95      115        130         115   \n",
       "\n",
       "     attack x defense   type2  \n",
       "0                2401  poison  \n",
       "1                3906  poison  \n",
       "2               12300  poison  \n",
       "3                2236    None  \n",
       "4                3712    None  \n",
       "..                ...     ...  \n",
       "796             10403  flying  \n",
       "797             23711   steel  \n",
       "798              5353  dragon  \n",
       "799             10807    None  \n",
       "800             10925   fairy  \n",
       "\n",
       "[801 rows x 24 columns]"
      ]
     },
     "execution_count": 14,
     "metadata": {},
     "output_type": "execute_result"
    }
   ],
   "source": [
    "data = {\n",
    "    'attack': pokemon_df['attack'],\n",
    "    'defense': pokemon_df['defense'],\n",
    "    'sp_attack': pokemon_df['sp_attack'],\n",
    "    'sp_defense': pokemon_df['sp_defense'],\n",
    "    'attack x defense' : pokemon_df['attack']* pokemon_df['defense'],\n",
    "    'type2': pokemon_df.type2,\n",
    "    'type1': pokemon_df['type1']\n",
    "}\n",
    "data = pd.DataFrame(data)\n",
    "## look for columns with 'against' and join them\n",
    "data = pokemon_df.filter(like='against').join(data) \n",
    "\n",
    "X = data.drop('type1', axis=1)\n",
    "y = data['type1']\n",
    "print(list(X))\n",
    "X"
   ]
  },
  {
   "cell_type": "code",
   "execution_count": 15,
   "metadata": {},
   "outputs": [
    {
     "data": {
      "image/png": "[encoded data removed]",
      "text/plain": [
       "<Figure size 504x504 with 1 Axes>"
      ]
     },
     "metadata": {},
     "output_type": "display_data"
    }
   ],
   "source": [
    "fig = plt.figure(figsize=(7,7))\n",
    "\n",
    "colors = [\"aqua\", \"orange\"]\n",
    "pokeLeg = pokemon_df[pokemon_df['is_legendary'] == True]\n",
    "pokeNon = pokemon_df[pokemon_df['is_legendary'] == False]\n",
    "\n",
    "legDist = [pokeLeg['name'].count(), pokeNon['name'].count()]\n",
    "legPie = plt.pie(legDist,\n",
    "                 labels= ['Legendary', 'Non Legendary'], \n",
    "                 autopct ='%1.1f%%', \n",
    "                 shadow = True,\n",
    "                 colors = colors,\n",
    "                 startangle = 45,\n",
    "                 explode=(0, 0.1))"
   ]
  },
  {
   "cell_type": "code",
   "execution_count": 16,
   "metadata": {},
   "outputs": [
    {
     "data": {
      "image/png": "[encoded data removed]",
      "text/plain": [
       "<Figure size 540x360 with 1 Axes>"
      ]
     },
     "metadata": {
      "needs_background": "light"
     },
     "output_type": "display_data"
    }
   ],
   "source": [
    "colors = [\"aqua\", \"orange\"]\n",
    "g = sns.factorplot(\n",
    "    x='generation', \n",
    "    data=pokemon_df,\n",
    "    kind='count', \n",
    "    hue='is_legendary',\n",
    "    palette=colors, \n",
    "    size=5, \n",
    "    aspect=1.5,\n",
    "    legend=False,\n",
    "    ).set_axis_labels('Generation', '# of Pokemon')\n",
    "\n",
    "g.ax.legend(loc='upper center', bbox_to_anchor=(0.5, 1.1),  shadow=True, ncol=2, labels=['NON LEGENDARY','LEGENDARY'])\n",
    "plt.show()"
   ]
  },
  {
   "cell_type": "code",
   "execution_count": 17,
   "metadata": {},
   "outputs": [],
   "source": [
    "## Not usually a good sign since there is not enough data on what is a legendary\n",
    "## Maybe there's a very strong correlation we can exploit\n",
    "## High attack and defense correlation"
   ]
  },
  {
   "cell_type": "code",
   "execution_count": 18,
   "metadata": {},
   "outputs": [
    {
     "data": {
      "text/plain": [
       "<seaborn.axisgrid.FacetGrid at 0x7fff4a425c10>"
      ]
     },
     "execution_count": 18,
     "metadata": {},
     "output_type": "execute_result"
    },
    {
     "data": {
      "image/png": "[encoded data removed]",
      "text/plain": [
       "<Figure size 431.5x360 with 1 Axes>"
      ]
     },
     "metadata": {
      "needs_background": "light"
     },
     "output_type": "display_data"
    }
   ],
   "source": [
    "sns.lmplot(x='attack', y='defense', hue='is_legendary', fit_reg=False, data=pokemon_df, markers = ['x', 'o'])"
   ]
  },
  {
   "cell_type": "code",
   "execution_count": 19,
   "metadata": {},
   "outputs": [],
   "source": [
    "leg = pokemon_df[pokemon_df['is_legendary'] == True]\n",
    "leg_total = leg['base_total'].mean()\n",
    "non_leg_total = pokemon_df[pokemon_df['is_legendary'] != True]['base_total'].mean()"
   ]
  },
  {
   "cell_type": "code",
   "execution_count": 20,
   "metadata": {},
   "outputs": [
    {
     "data": {
      "text/html": [
       "<div>\n",
       "<style scoped>\n",
       "    .dataframe tbody tr th:only-of-type {\n",
       "        vertical-align: middle;\n",
       "    }\n",
       "\n",
       "    .dataframe tbody tr th {\n",
       "        vertical-align: top;\n",
       "    }\n",
       "\n",
       "    .dataframe thead th {\n",
       "        text-align: right;\n",
       "    }\n",
       "</style>\n",
       "<table border=\"1\" class=\"dataframe\">\n",
       "  <thead>\n",
       "    <tr style=\"text-align: right;\">\n",
       "      <th></th>\n",
       "      <th>Average Total</th>\n",
       "    </tr>\n",
       "  </thead>\n",
       "  <tbody>\n",
       "    <tr>\n",
       "      <th>Legendary</th>\n",
       "      <td>615.257143</td>\n",
       "    </tr>\n",
       "    <tr>\n",
       "      <th>non-Legendary</th>\n",
       "      <td>410.481532</td>\n",
       "    </tr>\n",
       "  </tbody>\n",
       "</table>\n",
       "</div>"
      ],
      "text/plain": [
       "               Average Total\n",
       "Legendary         615.257143\n",
       "non-Legendary     410.481532"
      ]
     },
     "execution_count": 20,
     "metadata": {},
     "output_type": "execute_result"
    }
   ],
   "source": [
    "pd.DataFrame([leg_total, non_leg_total], index=['Legendary', 'non-Legendary'], columns=['Average Total'])"
   ]
  },
  {
   "cell_type": "code",
   "execution_count": 21,
   "metadata": {},
   "outputs": [],
   "source": [
    "isLegendary = pd.get_dummies(pokemon_df['is_legendary'], drop_first=True)\n",
    "lr_df = pokemon_df[['base_total', 'capture_rate']]\n",
    "lr_df = pd.concat([lr_df, isLegendary], axis=1)"
   ]
  },
  {
   "cell_type": "code",
   "execution_count": 22,
   "metadata": {},
   "outputs": [
    {
     "data": {
      "text/html": [
       "<div>\n",
       "<style scoped>\n",
       "    .dataframe tbody tr th:only-of-type {\n",
       "        vertical-align: middle;\n",
       "    }\n",
       "\n",
       "    .dataframe tbody tr th {\n",
       "        vertical-align: top;\n",
       "    }\n",
       "\n",
       "    .dataframe thead th {\n",
       "        text-align: right;\n",
       "    }\n",
       "</style>\n",
       "<table border=\"1\" class=\"dataframe\">\n",
       "  <thead>\n",
       "    <tr style=\"text-align: right;\">\n",
       "      <th></th>\n",
       "      <th>Base Total</th>\n",
       "      <th>Catch Rate</th>\n",
       "      <th>Is Legendary</th>\n",
       "    </tr>\n",
       "  </thead>\n",
       "  <tbody>\n",
       "    <tr>\n",
       "      <th>0</th>\n",
       "      <td>318</td>\n",
       "      <td>45</td>\n",
       "      <td>0</td>\n",
       "    </tr>\n",
       "    <tr>\n",
       "      <th>1</th>\n",
       "      <td>405</td>\n",
       "      <td>45</td>\n",
       "      <td>0</td>\n",
       "    </tr>\n",
       "    <tr>\n",
       "      <th>2</th>\n",
       "      <td>625</td>\n",
       "      <td>45</td>\n",
       "      <td>0</td>\n",
       "    </tr>\n",
       "    <tr>\n",
       "      <th>3</th>\n",
       "      <td>309</td>\n",
       "      <td>45</td>\n",
       "      <td>0</td>\n",
       "    </tr>\n",
       "    <tr>\n",
       "      <th>4</th>\n",
       "      <td>405</td>\n",
       "      <td>45</td>\n",
       "      <td>0</td>\n",
       "    </tr>\n",
       "  </tbody>\n",
       "</table>\n",
       "</div>"
      ],
      "text/plain": [
       "   Base Total  Catch Rate  Is Legendary\n",
       "0         318          45             0\n",
       "1         405          45             0\n",
       "2         625          45             0\n",
       "3         309          45             0\n",
       "4         405          45             0"
      ]
     },
     "execution_count": 22,
     "metadata": {},
     "output_type": "execute_result"
    }
   ],
   "source": [
    "lr_df.columns = ['Base Total', 'Catch Rate', 'Is Legendary']\n",
    "lr_df.head()"
   ]
  },
  {
   "cell_type": "code",
   "execution_count": 23,
   "metadata": {},
   "outputs": [
    {
     "data": {
      "text/html": [
       "<div>\n",
       "<style scoped>\n",
       "    .dataframe tbody tr th:only-of-type {\n",
       "        vertical-align: middle;\n",
       "    }\n",
       "\n",
       "    .dataframe tbody tr th {\n",
       "        vertical-align: top;\n",
       "    }\n",
       "\n",
       "    .dataframe thead th {\n",
       "        text-align: right;\n",
       "    }\n",
       "</style>\n",
       "<table border=\"1\" class=\"dataframe\">\n",
       "  <thead>\n",
       "    <tr style=\"text-align: right;\">\n",
       "      <th></th>\n",
       "      <th>Base Total</th>\n",
       "      <th>Catch Rate</th>\n",
       "      <th>Is Legendary</th>\n",
       "    </tr>\n",
       "  </thead>\n",
       "  <tbody>\n",
       "    <tr>\n",
       "      <th>796</th>\n",
       "      <td>570</td>\n",
       "      <td>25</td>\n",
       "      <td>1</td>\n",
       "    </tr>\n",
       "    <tr>\n",
       "      <th>797</th>\n",
       "      <td>570</td>\n",
       "      <td>255</td>\n",
       "      <td>1</td>\n",
       "    </tr>\n",
       "    <tr>\n",
       "      <th>798</th>\n",
       "      <td>570</td>\n",
       "      <td>15</td>\n",
       "      <td>1</td>\n",
       "    </tr>\n",
       "    <tr>\n",
       "      <th>799</th>\n",
       "      <td>600</td>\n",
       "      <td>3</td>\n",
       "      <td>1</td>\n",
       "    </tr>\n",
       "    <tr>\n",
       "      <th>800</th>\n",
       "      <td>600</td>\n",
       "      <td>3</td>\n",
       "      <td>1</td>\n",
       "    </tr>\n",
       "  </tbody>\n",
       "</table>\n",
       "</div>"
      ],
      "text/plain": [
       "     Base Total  Catch Rate  Is Legendary\n",
       "796         570          25             1\n",
       "797         570         255             1\n",
       "798         570          15             1\n",
       "799         600           3             1\n",
       "800         600           3             1"
      ]
     },
     "execution_count": 23,
     "metadata": {},
     "output_type": "execute_result"
    }
   ],
   "source": [
    "lr_df.tail()"
   ]
  },
  {
   "cell_type": "code",
   "execution_count": 24,
   "metadata": {},
   "outputs": [],
   "source": [
    "X = lr_df.drop('Is Legendary', axis = 1)\n",
    "y = lr_df['Is Legendary']"
   ]
  },
  {
   "cell_type": "code",
   "execution_count": 25,
   "metadata": {},
   "outputs": [],
   "source": [
    "#trying to predict the is legendary from base total and catch rate"
   ]
  },
  {
   "cell_type": "code",
   "execution_count": 26,
   "metadata": {},
   "outputs": [],
   "source": [
    "x_train,x_test,y_train,y_test = train_test_split(X,y,test_size=0.3)"
   ]
  },
  {
   "cell_type": "code",
   "execution_count": 27,
   "metadata": {},
   "outputs": [],
   "source": [
    "lgb_hps = { 'num_leaves': hp.choice('num_leaves',np.arange(100, 200, 10, dtype=int)),\n",
    "            'max_depth': hp.choice('max_depth',np.arange(5, 16, 1, dtype=int)),\n",
    "#             'n_estimators': hp.quniform('n_estimators', 10, 700, 1),\n",
    "            'feature_fraction': hp.uniform('feature_fraction', 0.75, 1.0),\n",
    "            'bagging_fraction': hp.uniform('bagging_fraction', 0.75, 1.0),\n",
    "            'learning_rate': hp.loguniform('learning_rate', -5.0, -2.3),\n",
    "            'lambda_l1': hp.uniform('lambda_l1', 0, 10),\n",
    "            'lambda_l2': hp.uniform('lambda_l2', 0, 10)\n",
    "          }\n",
    "\n",
    "num_leaves_list = [100,110,120,130,140,150,160,170,180,190,200]"
   ]
  },
  {
   "cell_type": "code",
   "execution_count": 28,
   "metadata": {},
   "outputs": [],
   "source": [
    "accuracy_list_lgbm = []\n",
    "def HPO_lgbm(lgb_hps):\n",
    "    num_round = 50\n",
    "    train_data=lgb.Dataset(x_train,label=y_train)\n",
    "    lgbm=lgb.train(lgb_hps,train_data,num_round)\n",
    "    ypred2=lgbm.predict(x_test)\n",
    "    accuracy_lgbm = roc_auc_score(y_test,ypred2).mean()\n",
    "    accuracy_list_lgbm.append(accuracy_lgbm)\n",
    "    return {'loss': -accuracy_lgbm, 'status': STATUS_OK }"
   ]
  },
  {
   "cell_type": "code",
   "execution_count": 29,
   "metadata": {},
   "outputs": [
    {
     "name": "stdout",
     "output_type": "stream",
     "text": [
      "100%|██████████| 80/80 [08:11<00:00,  6.14s/trial, best loss: -0.983047467092142] \n",
      "Best Hyperparameters for LGBM are: \n",
      "\n"
     ]
    },
    {
     "data": {
      "text/plain": [
       "{'bagging_fraction': 0.8865613225921909,\n",
       " 'feature_fraction': 0.8445642829784099,\n",
       " 'lambda_l1': 1.5648159584696697,\n",
       " 'lambda_l2': 4.6579098845441695,\n",
       " 'learning_rate': 0.07261544073901868,\n",
       " 'max_depth': 2,\n",
       " 'num_leaves': 6}"
      ]
     },
     "execution_count": 29,
     "metadata": {},
     "output_type": "execute_result"
    }
   ],
   "source": [
    "trials = Trials()\n",
    "best_lgbm = fmin(fn= HPO_lgbm,\n",
    "            space= lgb_hps,\n",
    "            algo= tpe.suggest,\n",
    "            max_evals = 80,\n",
    "            trials = trials\n",
    "            )\n",
    "max_acc_lgbm = max(accuracy_list_lgbm)\n",
    "print(\"Best Hyperparameters for LGBM are: \\n\")\n",
    "best_lgbm"
   ]
  },
  {
   "cell_type": "code",
   "execution_count": 30,
   "metadata": {},
   "outputs": [
    {
     "name": "stdout",
     "output_type": "stream",
     "text": [
      "Best num_leaves   =   6\n",
      "Best max_depth   =   2\n",
      "Best feature_fraction   =   0.8445642829784099\n",
      "Best bagging_fraction   =   0.8865613225921909\n",
      "Best learning_rate   =   0.07261544073901868\n",
      "Best lambda_l1   =   1.5648159584696697\n",
      "Best lambda_l2   =   4.6579098845441695\n"
     ]
    },
    {
     "data": {
      "image/png": "[encoded data removed]",
      "text/plain": [
       "<Figure size 720x576 with 8 Axes>"
      ]
     },
     "metadata": {
      "needs_background": "light"
     },
     "output_type": "display_data"
    }
   ],
   "source": [
    "parameters = ['num_leaves','max_depth','feature_fraction','bagging_fraction','learning_rate','lambda_l1','lambda_l2']\n",
    "f, axes = plt.subplots(nrows=4, ncols=2, figsize=(10,8))\n",
    "f.tight_layout()\n",
    "cmap = plt.cm.jet\n",
    "for i, val in enumerate(parameters):\n",
    "    print(\"Best \" + str(val) + \"   =   \" + str(best_lgbm[val]))\n",
    "    xs = np.array([t['misc']['vals'][val] for t in trials.trials]).ravel()\n",
    "    ys = [-t['result']['loss'] for t in trials.trials]\n",
    "    xs, ys = zip(*sorted(zip(xs, ys)))\n",
    "    ys = np.array(ys)\n",
    "    c=np.array(cmap(float(i)/len(parameters)))\n",
    "    axes[i//2,i%2].scatter(xs, ys, s=20, linewidth=0.01, alpha=0.5, c=c.reshape(1,-1))\n",
    "    axes[i//2,i%2].scatter(best_lgbm[val],max_acc_lgbm,color = \"red\")\n",
    "    axes[i//2,i%2].set_title(val)"
   ]
  },
  {
   "cell_type": "code",
   "execution_count": 31,
   "metadata": {},
   "outputs": [
    {
     "name": "stdout",
     "output_type": "stream",
     "text": [
      "Accuracy score =  97.50999999999999 %\n",
      "Execution time =  0:00:55.735424\n",
      "Prediction time =  0:00:00.016177\n"
     ]
    }
   ],
   "source": [
    "params = { \n",
    "            'num_leaves': num_leaves_list[best_lgbm['num_leaves']],\n",
    "            'max_depth': best_lgbm['max_depth'],\n",
    "            'n_estimators': 700,\n",
    "            'feature_fraction':best_lgbm['feature_fraction'],\n",
    "            'bagging_fraction':best_lgbm['bagging_fraction'],\n",
    "            'learning_rate':best_lgbm['learning_rate'],\n",
    "            'lambda_l1': best_lgbm['lambda_l1'],\n",
    "            'lambda_l2':best_lgbm['lambda_l2']\n",
    "          }\n",
    "train_data=lgb.Dataset(x_train,label=y_train)\n",
    "\n",
    "num_round=100\n",
    "t1=datetime.now()\n",
    "lgbm=lgb.train(params,train_data,num_round)\n",
    "t2=datetime.now()\n",
    "execution_time_lgbm = t2-t1\n",
    "t3 = datetime.now()\n",
    "ypred2=lgbm.predict(x_test)\n",
    "t4 = datetime.now()\n",
    "\n",
    "for i in range(0,len(ypred2)): \n",
    "    if ypred2[i] >=0.5:\n",
    "        ypred2[i] = 1\n",
    "    else:\n",
    "        ypred2[i] = 0\n",
    "accuracy_lgbm = round(accuracy_score(ypred2,y_test),5)\n",
    "print(\"Accuracy score = \",accuracy_lgbm*100,\"%\")\n",
    "print(\"Execution time = \",execution_time_lgbm)\n",
    "print(\"Prediction time = \",t4-t3)\n",
    "lgbm_train_time = t2-t1"
   ]
  },
  {
   "cell_type": "code",
   "execution_count": 32,
   "metadata": {},
   "outputs": [],
   "source": [
    "\n",
    "xgb_hps = {  \n",
    "            'learning_rate':     hp.loguniform('learning_rate', -5.0, -2.3),\n",
    "            'max_depth':         hp.choice('max_depth',np.arange(5,16,1,dtype = int)),\n",
    "            'lambda':            hp.quniform('lambda',2, 4, 1),\n",
    "            'subsample':        hp.quniform('subsample',0.1,1.0,0.1),\n",
    "            'colsample_bytree': hp.quniform('colsample_bytree',0.5, 0.8, 0.1),\n",
    "            'min_split_loss' : hp.quniform('min_split_loss',0.1,2.0,0.1)\n",
    "        }\n",
    "\n",
    "depth_list = [i for i in range(5,16,1)]"
   ]
  },
  {
   "cell_type": "code",
   "execution_count": 33,
   "metadata": {},
   "outputs": [],
   "source": [
    "accuracy_list_xgb = []\n",
    "def HPO_xgb(xgb_hps):\n",
    "    model = model = XGBClassifier(**xgb_hps)\n",
    "    model.fit(x_train,y_train)\n",
    "    y_pred = model.predict(x_test)\n",
    "    accuracy_xgb = accuracy_score(y_pred,y_test).mean()\n",
    "    accuracy_list_xgb.append(accuracy_xgb)\n",
    "    return {'loss': -accuracy_xgb, 'status': STATUS_OK }"
   ]
  },
  {
   "cell_type": "code",
   "execution_count": 34,
   "metadata": {},
   "outputs": [
    {
     "name": "stdout",
     "output_type": "stream",
     "text": [
      "100%|██████████| 80/80 [00:07<00:00, 11.22trial/s, best loss: -0.979253112033195]\n",
      "Best Hyperparameters for XGBoost are: \n",
      "\n"
     ]
    },
    {
     "data": {
      "text/plain": [
       "{'colsample_bytree': 0.8,\n",
       " 'lambda': 4.0,\n",
       " 'learning_rate': 0.024677297366927177,\n",
       " 'max_depth': 7,\n",
       " 'min_split_loss': 1.5,\n",
       " 'subsample': 0.4}"
      ]
     },
     "execution_count": 34,
     "metadata": {},
     "output_type": "execute_result"
    }
   ],
   "source": [
    "trials = Trials()\n",
    "best_xgb = fmin(fn= HPO_xgb,\n",
    "            space= xgb_hps,\n",
    "            algo= tpe.suggest,\n",
    "            max_evals = 80,\n",
    "            trials = trials\n",
    "            )\n",
    "max_acc_xgb = max(accuracy_list_xgb)\n",
    "print(\"Best Hyperparameters for XGBoost are: \\n\")\n",
    "best_xgb"
   ]
  },
  {
   "cell_type": "code",
   "execution_count": 35,
   "metadata": {},
   "outputs": [
    {
     "name": "stdout",
     "output_type": "stream",
     "text": [
      "Best max_depth   =   12\n",
      "Best subsample   =   0.4\n",
      "Best learning_rate   =   0.024677297366927177\n",
      "Best min_split_loss   =   1.5\n",
      "Best lambda   =   4.0\n",
      "Best colsample_bytree   =   0.8\n"
     ]
    },
    {
     "data": {
      "image/png": "[encoded data removed]",
      "text/plain": [
       "<Figure size 1080x576 with 6 Axes>"
      ]
     },
     "metadata": {
      "needs_background": "light"
     },
     "output_type": "display_data"
    }
   ],
   "source": [
    "parameters = ['max_depth','subsample','learning_rate','min_split_loss','lambda','colsample_bytree']\n",
    "f, axes = plt.subplots(nrows=3, ncols=2, figsize=(15,8))\n",
    "f.tight_layout()\n",
    "cmap = plt.cm.jet\n",
    "for i, val in enumerate(parameters):\n",
    "    if val == 'max_depth':\n",
    "        best_xgb[val] = depth_list[best_xgb[val]]\n",
    "    print(\"Best \" + str(val) + \"   =   \" + str(best_xgb[val]))\n",
    "    xs = np.array([t['misc']['vals'][val] for t in trials.trials]).ravel()\n",
    "    ys = [-t['result']['loss'] for t in trials.trials]\n",
    "    xs, ys = zip(*sorted(zip(xs, ys)))\n",
    "    ys = np.array(ys)\n",
    "    c=np.array(cmap(float(i)/len(parameters)))\n",
    "    axes[i//2,i%2].scatter(xs, ys, s=20, linewidth=0.01, alpha=0.5, c=c.reshape(1,-1))\n",
    "    axes[i//2,i%2].scatter(best_xgb[val],max_acc_xgb,color = \"red\")\n",
    "    axes[i//2,i%2].set_title(val)"
   ]
  },
  {
   "cell_type": "code",
   "execution_count": 36,
   "metadata": {},
   "outputs": [
    {
     "name": "stdout",
     "output_type": "stream",
     "text": [
      "Accuracy score =  97.925 %\n",
      "Execution time =  0:00:00.037372\n",
      "Prediction time =  0:00:00.001613\n"
     ]
    }
   ],
   "source": [
    "model = XGBClassifier(**best_xgb)\n",
    "t1=datetime.now()\n",
    "model.fit(x_train,y_train)\n",
    "t2=datetime.now()\n",
    "execution_time_xgb = t2-t1\n",
    "t3 = datetime.now()\n",
    "y_pred = model.predict(x_test)\n",
    "t4 = datetime.now()\n",
    "predictions = [round(value) for value in y_pred]\n",
    "accuracy_xgb = round(accuracy_score(y_pred,y_test),5)\n",
    "print(\"Accuracy score = \",accuracy_xgb*100,\"%\")\n",
    "print(\"Execution time = \",execution_time_xgb)\n",
    "print(\"Prediction time = \",t4-t3)\n",
    "xgb_train_time = t2-t1"
   ]
  },
  {
   "cell_type": "code",
   "execution_count": 37,
   "metadata": {},
   "outputs": [],
   "source": [
    "num_threads = 25\n",
    "sb_hps = {\n",
    "            'objective': 'logloss',\n",
    "#             'num_round': hp.uniform('num_round', 10, 700, 1),\n",
    "            'min_max_depth':hp.choice('min_max_depth',np.arange(1,11,1,dtype = int)), \n",
    "            'max_max_depth':hp.choice('max_max_depth',np.arange(11,21,1,dtype = int)),\n",
    "            'learning_rate':hp.loguniform('learning_rate', -5.0, -2.3), \n",
    "            'colsample_bytree': hp.quniform('colsample_bytree',0.3, 0.5, 0.1),\n",
    "            'lambda_l2':hp.quniform('lambda_l2',2, 20, 1),\n",
    "            'subsample':hp.quniform('subsample',0.3, 1.0, 0.1),\n",
    "#             'hist_nbins': 5,\n",
    "            'random_state':42, \n",
    "            'n_threads':num_threads\n",
    "}\n",
    "depth_list_min = [i for i in range(1,11,1)]\n",
    "depth_list_max = [i for i in range(11,21,1)]"
   ]
  },
  {
   "cell_type": "code",
   "execution_count": 38,
   "metadata": {},
   "outputs": [],
   "source": [
    "accuracy_list_sb = []\n",
    "def HPO_sb(sb_hps):\n",
    "    model = BoostingMachine(**sb_hps)\n",
    "    model.fit(x_train.to_numpy(),y_train.to_numpy())\n",
    "    y_pred = model.predict(x_test.to_numpy())\n",
    "    accuracy_sb = accuracy_score(y_pred.round(),y_test).mean()\n",
    "    accuracy_list_sb.append(accuracy_sb)\n",
    "    return {'loss': -accuracy_sb, 'status': STATUS_OK }"
   ]
  },
  {
   "cell_type": "code",
   "execution_count": 39,
   "metadata": {},
   "outputs": [
    {
     "name": "stdout",
     "output_type": "stream",
     "text": [
      "100%|██████████| 180/180 [00:38<00:00,  4.66trial/s, best loss: -0.9045643153526971]\n",
      "Best Hyperparameters for SnapBoost are: \n",
      "\n"
     ]
    },
    {
     "data": {
      "text/plain": [
       "{'colsample_bytree': 0.4,\n",
       " 'lambda_l2': 14.0,\n",
       " 'learning_rate': 0.020925156891178815,\n",
       " 'max_max_depth': 6,\n",
       " 'min_max_depth': 6,\n",
       " 'subsample': 0.9}"
      ]
     },
     "execution_count": 39,
     "metadata": {},
     "output_type": "execute_result"
    }
   ],
   "source": [
    "trials = Trials()\n",
    "best_sb = fmin(fn= HPO_sb,\n",
    "            space= sb_hps,\n",
    "            algo= tpe.suggest,\n",
    "            max_evals = 180,\n",
    "            trials = trials\n",
    "            )\n",
    "max_acc_sb = max(accuracy_list_sb)\n",
    "print(\"Best Hyperparameters for SnapBoost are: \\n\")\n",
    "best_sb"
   ]
  },
  {
   "cell_type": "code",
   "execution_count": 40,
   "metadata": {},
   "outputs": [
    {
     "name": "stdout",
     "output_type": "stream",
     "text": [
      "Best min_max_depth   =   7\n",
      "Best max_max_depth   =   17\n",
      "Best learning_rate   =   0.020925156891178815\n",
      "Best colsample_bytree   =   0.4\n",
      "Best lambda_l2   =   14.0\n",
      "Best subsample   =   0.9\n"
     ]
    },
    {
     "data": {
      "image/png": "[encoded data removed]",
      "text/plain": [
       "<Figure size 1080x576 with 6 Axes>"
      ]
     },
     "metadata": {
      "needs_background": "light"
     },
     "output_type": "display_data"
    }
   ],
   "source": [
    "parameters = ['min_max_depth','max_max_depth','learning_rate','colsample_bytree','lambda_l2','subsample']\n",
    "f, axes = plt.subplots(nrows=3, ncols=2, figsize=(15,8))\n",
    "f.tight_layout()\n",
    "cmap = plt.cm.jet\n",
    "for i, val in enumerate(parameters):\n",
    "    if val == 'min_max_depth' :\n",
    "        best_sb[val] = depth_list_min[best_sb[val]]\n",
    "    if val == 'max_max_depth':\n",
    "        best_sb[val] = depth_list_max[best_sb[val]]\n",
    "    print(\"Best \" + str(val) + \"   =   \" + str(best_sb[val]))\n",
    "    xs = np.array([t['misc']['vals'][val] for t in trials.trials]).ravel()\n",
    "    ys = [-t['result']['loss'] for t in trials.trials]\n",
    "    xs, ys = zip(*sorted(zip(xs, ys)))\n",
    "    ys = np.array(ys)\n",
    "    c=np.array(cmap(float(i)/len(parameters)))\n",
    "    axes[i//2,i%2].scatter(xs, ys, s=20, linewidth=0.01, alpha=0.5, c=c.reshape(1,-1))\n",
    "    axes[i//2,i%2].scatter(best_sb[val],max_acc_sb,color = \"red\")\n",
    "    axes[i//2,i%2].set_title(val)"
   ]
  },
  {
   "cell_type": "code",
   "execution_count": 41,
   "metadata": {},
   "outputs": [
    {
     "name": "stdout",
     "output_type": "stream",
     "text": [
      "Accuracy score =  64.27000000000001 %\n",
      "Execution time =  0:00:00.004242\n",
      "Prediction time =  0:00:00.000521\n"
     ]
    }
   ],
   "source": [
    "max_max_depth = 6\n",
    "min_max_depth = 6\n",
    "num_round = 60\n",
    "learning_rate = 0.1\n",
    "num_threads = 25\n",
    "booster = BoostingMachine(**best_sb)\n",
    "t1=datetime.now()\n",
    "booster.fit(x_train.to_numpy(), y_train.to_numpy())\n",
    "t2=datetime.now()\n",
    "execution_time_snap_boost = t2-t1\n",
    "t3 = datetime.now()\n",
    "ypred = booster.predict(x_test.to_numpy())\n",
    "t4 = datetime.now()\n",
    "accuracy_snap_boost = round(roc_auc_score(y_test,ypred),2)\n",
    "print(\"Accuracy score = \",accuracy_snap_boost*100,\"%\")\n",
    "print(\"Execution time = \",execution_time_snap_boost)\n",
    "print(\"Prediction time = \",t4-t3)\n",
    "snap_boost_train_time = t2-t1"
   ]
  },
  {
   "cell_type": "code",
   "execution_count": 42,
   "metadata": {},
   "outputs": [
    {
     "data": {
      "image/png": "[encoded data removed]",
      "text/plain": [
       "<Figure size 432x432 with 1 Axes>"
      ]
     },
     "metadata": {
      "needs_background": "light"
     },
     "output_type": "display_data"
    }
   ],
   "source": [
    "import matplotlib.pyplot as plt\n",
    "fig = plt.figure(figsize = (6,6))\n",
    "ax = fig.add_axes([0,0,1,1])\n",
    "algorithms = ['LightGBM','XGBoost','SnapBoost']\n",
    "accuracy = [accuracy_lgbm*100, accuracy_xgb*100,accuracy_snap_boost*100]\n",
    "g = ax.bar(algorithms,accuracy)\n",
    "plt.title(\"Accuracy Plot\")\n",
    "plt.xlabel(\"Algorithms on the Categorical Dataset\")\n",
    "plt.ylabel(\"Accuracy in %\")\n",
    "bar_label = [accuracy_lgbm*100, accuracy_xgb*100,accuracy_snap_boost*100]\n",
    "def autolabel(rects):\n",
    "    for idx,rect in enumerate(g):\n",
    "        height = rect.get_height()\n",
    "        ax.text(rect.get_x() + rect.get_width()/2., 1.0*height,\n",
    "                bar_label[idx],\n",
    "                ha='center', va='bottom', rotation=0)\n",
    "\n",
    "autolabel(g)\n",
    "plt.show()"
   ]
  },
  {
   "cell_type": "code",
   "execution_count": 43,
   "metadata": {},
   "outputs": [
    {
     "data": {
      "image/png": "[encoded data removed]",
      "text/plain": [
       "<Figure size 432x432 with 1 Axes>"
      ]
     },
     "metadata": {
      "needs_background": "light"
     },
     "output_type": "display_data"
    }
   ],
   "source": [
    "lg = float(str(lgbm_train_time)[5:])\n",
    "cb = float(str(snap_boost_train_time)[5:])\n",
    "xgb = float(str(xgb_train_time)[5:])\n",
    "fig1 = plt.figure(figsize = (6,6))\n",
    "ay = fig1.add_axes([0,0,1,1])\n",
    "algorithms = ['LightGBM','XGBoost','SnapBoost']\n",
    "training_time = [lg,xgb,cb]\n",
    "g1 = ay.bar(algorithms,training_time)\n",
    "plt.title(\"Training Time Plot\")\n",
    "plt.xlabel(\"Algorithms on the Categorical Dataset\")\n",
    "plt.ylabel(\"Time Taken in Seconds\")\n",
    "bar_label = training_time\n",
    "def autolabel1(rects):\n",
    "    for idx,rect in enumerate(g1):\n",
    "        height = rect.get_height()\n",
    "        ay.text(rect.get_x() + rect.get_width()/2., 1.0*height,\n",
    "                bar_label[idx],\n",
    "                ha='center', va='bottom', rotation=0)\n",
    "\n",
    "autolabel1(g1)\n",
    "plt.show()"
   ]
  },
  {
   "cell_type": "code",
   "execution_count": null,
   "metadata": {},
   "outputs": [],
   "source": []
  }
 ],
 "metadata": {
  "kernelspec": {
   "display_name": "Python 3",
   "language": "python",
   "name": "python3"
  },
  "language_info": {
   "codemirror_mode": {
    "name": "ipython",
    "version": 3
   },
   "file_extension": ".py",
   "mimetype": "text/x-python",
   "name": "python",
   "nbconvert_exporter": "python",
   "pygments_lexer": "ipython3",
   "version": "3.7.3"
  }
 },
 "nbformat": 4,
 "nbformat_minor": 4
}
