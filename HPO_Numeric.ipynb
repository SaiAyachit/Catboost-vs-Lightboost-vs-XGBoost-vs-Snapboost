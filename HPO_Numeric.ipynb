{
 "cells": [
  {
   "cell_type": "code",
   "execution_count": 1,
   "metadata": {},
   "outputs": [],
   "source": [
    "# Importing Dependencies\n",
    "import warnings\n",
    "warnings.filterwarnings('ignore')\n",
    "import numpy as np\n",
    "import pandas as pd\n",
    "import sys\n",
    "import os\n",
    "import warnings\n",
    "from datetime import datetime\n",
    "import matplotlib as mpl\n",
    "from sklearn.model_selection import train_test_split\n",
    "from sklearn.metrics import accuracy_score \n",
    "from sklearn.model_selection import StratifiedKFold\n",
    "from sklearn.model_selection import cross_val_score\n",
    "from sklearn.metrics import roc_auc_score\n",
    "\n",
    "from hyperopt import hp, fmin, tpe, STATUS_OK, Trials\n",
    "\n",
    "import lightgbm as lgb\n",
    "from xgboost import XGBClassifier\n",
    "from pai4sk import BoostingMachine"
   ]
  },
  {
   "cell_type": "code",
   "execution_count": 2,
   "metadata": {},
   "outputs": [],
   "source": [
    "input_path = r\"Pokemon.csv\"\n",
    "data = pd.read_csv(input_path)"
   ]
  },
  {
   "cell_type": "code",
   "execution_count": 3,
   "metadata": {},
   "outputs": [
    {
     "name": "stdout",
     "output_type": "stream",
     "text": [
      "<class 'pandas.core.frame.DataFrame'>\n",
      "RangeIndex: 800 entries, 0 to 799\n",
      "Data columns (total 13 columns):\n",
      " #   Column      Non-Null Count  Dtype \n",
      "---  ------      --------------  ----- \n",
      " 0   #           800 non-null    int64 \n",
      " 1   Name        800 non-null    object\n",
      " 2   Type 1      800 non-null    object\n",
      " 3   Type 2      414 non-null    object\n",
      " 4   Total       800 non-null    int64 \n",
      " 5   HP          800 non-null    int64 \n",
      " 6   Attack      800 non-null    int64 \n",
      " 7   Defense     800 non-null    int64 \n",
      " 8   Sp. Atk     800 non-null    int64 \n",
      " 9   Sp. Def     800 non-null    int64 \n",
      " 10  Speed       800 non-null    int64 \n",
      " 11  Generation  800 non-null    object\n",
      " 12  Legendary   800 non-null    bool  \n",
      "dtypes: bool(1), int64(8), object(4)\n",
      "memory usage: 75.9+ KB\n"
     ]
    }
   ],
   "source": [
    "# Checking Basic information available from dataset\n",
    "data.head()\n",
    "data.info()"
   ]
  },
  {
   "cell_type": "code",
   "execution_count": 4,
   "metadata": {},
   "outputs": [
    {
     "data": {
      "text/html": [
       "<div>\n",
       "<style scoped>\n",
       "    .dataframe tbody tr th:only-of-type {\n",
       "        vertical-align: middle;\n",
       "    }\n",
       "\n",
       "    .dataframe tbody tr th {\n",
       "        vertical-align: top;\n",
       "    }\n",
       "\n",
       "    .dataframe thead th {\n",
       "        text-align: right;\n",
       "    }\n",
       "</style>\n",
       "<table border=\"1\" class=\"dataframe\">\n",
       "  <thead>\n",
       "    <tr style=\"text-align: right;\">\n",
       "      <th></th>\n",
       "      <th>HP</th>\n",
       "      <th>Attack</th>\n",
       "      <th>Defense</th>\n",
       "    </tr>\n",
       "  </thead>\n",
       "  <tbody>\n",
       "    <tr>\n",
       "      <th>count</th>\n",
       "      <td>800.000000</td>\n",
       "      <td>800.000000</td>\n",
       "      <td>800.000000</td>\n",
       "    </tr>\n",
       "    <tr>\n",
       "      <th>mean</th>\n",
       "      <td>69.258750</td>\n",
       "      <td>79.001250</td>\n",
       "      <td>73.842500</td>\n",
       "    </tr>\n",
       "    <tr>\n",
       "      <th>std</th>\n",
       "      <td>25.534669</td>\n",
       "      <td>32.457366</td>\n",
       "      <td>31.183501</td>\n",
       "    </tr>\n",
       "    <tr>\n",
       "      <th>min</th>\n",
       "      <td>1.000000</td>\n",
       "      <td>5.000000</td>\n",
       "      <td>5.000000</td>\n",
       "    </tr>\n",
       "    <tr>\n",
       "      <th>25%</th>\n",
       "      <td>50.000000</td>\n",
       "      <td>55.000000</td>\n",
       "      <td>50.000000</td>\n",
       "    </tr>\n",
       "    <tr>\n",
       "      <th>50%</th>\n",
       "      <td>65.000000</td>\n",
       "      <td>75.000000</td>\n",
       "      <td>70.000000</td>\n",
       "    </tr>\n",
       "    <tr>\n",
       "      <th>75%</th>\n",
       "      <td>80.000000</td>\n",
       "      <td>100.000000</td>\n",
       "      <td>90.000000</td>\n",
       "    </tr>\n",
       "    <tr>\n",
       "      <th>max</th>\n",
       "      <td>255.000000</td>\n",
       "      <td>190.000000</td>\n",
       "      <td>230.000000</td>\n",
       "    </tr>\n",
       "  </tbody>\n",
       "</table>\n",
       "</div>"
      ],
      "text/plain": [
       "               HP      Attack     Defense\n",
       "count  800.000000  800.000000  800.000000\n",
       "mean    69.258750   79.001250   73.842500\n",
       "std     25.534669   32.457366   31.183501\n",
       "min      1.000000    5.000000    5.000000\n",
       "25%     50.000000   55.000000   50.000000\n",
       "50%     65.000000   75.000000   70.000000\n",
       "75%     80.000000  100.000000   90.000000\n",
       "max    255.000000  190.000000  230.000000"
      ]
     },
     "execution_count": 4,
     "metadata": {},
     "output_type": "execute_result"
    }
   ],
   "source": [
    "data[['HP', 'Attack', 'Defense']].head()\n",
    "data[['HP', 'Attack', 'Defense']].describe()"
   ]
  },
  {
   "cell_type": "code",
   "execution_count": 5,
   "metadata": {},
   "outputs": [
    {
     "data": {
      "text/html": [
       "<div>\n",
       "<style scoped>\n",
       "    .dataframe tbody tr th:only-of-type {\n",
       "        vertical-align: middle;\n",
       "    }\n",
       "\n",
       "    .dataframe tbody tr th {\n",
       "        vertical-align: top;\n",
       "    }\n",
       "\n",
       "    .dataframe thead th {\n",
       "        text-align: right;\n",
       "    }\n",
       "</style>\n",
       "<table border=\"1\" class=\"dataframe\">\n",
       "  <thead>\n",
       "    <tr style=\"text-align: right;\">\n",
       "      <th></th>\n",
       "      <th>Attack</th>\n",
       "      <th>Defense</th>\n",
       "    </tr>\n",
       "  </thead>\n",
       "  <tbody>\n",
       "    <tr>\n",
       "      <th>0</th>\n",
       "      <td>49</td>\n",
       "      <td>49</td>\n",
       "    </tr>\n",
       "    <tr>\n",
       "      <th>1</th>\n",
       "      <td>62</td>\n",
       "      <td>63</td>\n",
       "    </tr>\n",
       "    <tr>\n",
       "      <th>2</th>\n",
       "      <td>82</td>\n",
       "      <td>83</td>\n",
       "    </tr>\n",
       "    <tr>\n",
       "      <th>3</th>\n",
       "      <td>100</td>\n",
       "      <td>123</td>\n",
       "    </tr>\n",
       "    <tr>\n",
       "      <th>4</th>\n",
       "      <td>52</td>\n",
       "      <td>43</td>\n",
       "    </tr>\n",
       "  </tbody>\n",
       "</table>\n",
       "</div>"
      ],
      "text/plain": [
       "   Attack  Defense\n",
       "0      49       49\n",
       "1      62       63\n",
       "2      82       83\n",
       "3     100      123\n",
       "4      52       43"
      ]
     },
     "execution_count": 5,
     "metadata": {},
     "output_type": "execute_result"
    }
   ],
   "source": [
    "# Isolated table of Attack and Defense features\n",
    "atk_def = data[['Attack', 'Defense']]\n",
    "atk_def.head()"
   ]
  },
  {
   "cell_type": "code",
   "execution_count": 6,
   "metadata": {},
   "outputs": [
    {
     "data": {
      "text/plain": [
       "array([[   49.,    49.,  2401.,  2401.,  2401.],\n",
       "       [   62.,    63.,  3844.,  3906.,  3969.],\n",
       "       [   82.,    83.,  6724.,  6806.,  6889.],\n",
       "       ...,\n",
       "       [  110.,    60., 12100.,  6600.,  3600.],\n",
       "       [  160.,    60., 25600.,  9600.,  3600.],\n",
       "       [  110.,   120., 12100., 13200., 14400.]])"
      ]
     },
     "execution_count": 6,
     "metadata": {},
     "output_type": "execute_result"
    }
   ],
   "source": [
    "# Figuring out the polynomial features and performing the transformation\n",
    "from sklearn.preprocessing import PolynomialFeatures\n",
    "pf = PolynomialFeatures(degree=2, interaction_only=False, include_bias=False)\n",
    "res = pf.fit_transform(atk_def)\n",
    "res"
   ]
  },
  {
   "cell_type": "code",
   "execution_count": 7,
   "metadata": {},
   "outputs": [
    {
     "data": {
      "text/html": [
       "<div>\n",
       "<style scoped>\n",
       "    .dataframe tbody tr th:only-of-type {\n",
       "        vertical-align: middle;\n",
       "    }\n",
       "\n",
       "    .dataframe tbody tr th {\n",
       "        vertical-align: top;\n",
       "    }\n",
       "\n",
       "    .dataframe thead th {\n",
       "        text-align: right;\n",
       "    }\n",
       "</style>\n",
       "<table border=\"1\" class=\"dataframe\">\n",
       "  <thead>\n",
       "    <tr style=\"text-align: right;\">\n",
       "      <th></th>\n",
       "      <th>Attack_1</th>\n",
       "      <th>Defense_1</th>\n",
       "      <th>Attack^2</th>\n",
       "      <th>Attack x Defense</th>\n",
       "      <th>Defense^2</th>\n",
       "    </tr>\n",
       "  </thead>\n",
       "  <tbody>\n",
       "    <tr>\n",
       "      <th>0</th>\n",
       "      <td>49.0</td>\n",
       "      <td>49.0</td>\n",
       "      <td>2401.0</td>\n",
       "      <td>2401.0</td>\n",
       "      <td>2401.0</td>\n",
       "    </tr>\n",
       "    <tr>\n",
       "      <th>1</th>\n",
       "      <td>62.0</td>\n",
       "      <td>63.0</td>\n",
       "      <td>3844.0</td>\n",
       "      <td>3906.0</td>\n",
       "      <td>3969.0</td>\n",
       "    </tr>\n",
       "    <tr>\n",
       "      <th>2</th>\n",
       "      <td>82.0</td>\n",
       "      <td>83.0</td>\n",
       "      <td>6724.0</td>\n",
       "      <td>6806.0</td>\n",
       "      <td>6889.0</td>\n",
       "    </tr>\n",
       "    <tr>\n",
       "      <th>3</th>\n",
       "      <td>100.0</td>\n",
       "      <td>123.0</td>\n",
       "      <td>10000.0</td>\n",
       "      <td>12300.0</td>\n",
       "      <td>15129.0</td>\n",
       "    </tr>\n",
       "    <tr>\n",
       "      <th>4</th>\n",
       "      <td>52.0</td>\n",
       "      <td>43.0</td>\n",
       "      <td>2704.0</td>\n",
       "      <td>2236.0</td>\n",
       "      <td>1849.0</td>\n",
       "    </tr>\n",
       "  </tbody>\n",
       "</table>\n",
       "</div>"
      ],
      "text/plain": [
       "   Attack_1  Defense_1  Attack^2  Attack x Defense  Defense^2\n",
       "0      49.0       49.0    2401.0            2401.0     2401.0\n",
       "1      62.0       63.0    3844.0            3906.0     3969.0\n",
       "2      82.0       83.0    6724.0            6806.0     6889.0\n",
       "3     100.0      123.0   10000.0           12300.0    15129.0\n",
       "4      52.0       43.0    2704.0            2236.0     1849.0"
      ]
     },
     "execution_count": 7,
     "metadata": {},
     "output_type": "execute_result"
    }
   ],
   "source": [
    "# New dataframe with polynomial features included\n",
    "pd.DataFrame(pf.powers_, columns=['Attack_degree', 'Defense_degree'])\n",
    "intr_features = pd.DataFrame(res, columns=['Attack_1', 'Defense_1', 'Attack^2', 'Attack x Defense', 'Defense^2'])\n",
    "#intr_features.drop(['Attack','Defense'],axis=1,inplace = True)\n",
    "data = pd.concat([data,intr_features],axis=1)\n",
    "intr_features.head(5)"
   ]
  },
  {
   "cell_type": "code",
   "execution_count": 8,
   "metadata": {},
   "outputs": [
    {
     "data": {
      "text/plain": [
       "<seaborn.axisgrid.FacetGrid at 0x7fff88195090>"
      ]
     },
     "execution_count": 8,
     "metadata": {},
     "output_type": "execute_result"
    },
    {
     "data": {
      "image/png": "[encoded data removed]",
      "text/plain": [
       "<Figure size 252x252 with 1 Axes>"
      ]
     },
     "metadata": {
      "needs_background": "light"
     },
     "output_type": "display_data"
    }
   ],
   "source": [
    "import seaborn as sns\n",
    "from matplotlib import pyplot as plt\n",
    "# Ground Truth Values of whether a pokemon is legendary or not\n",
    "sns.factorplot('Legendary',data=data,kind='count',size = 3.5)"
   ]
  },
  {
   "cell_type": "code",
   "execution_count": 9,
   "metadata": {},
   "outputs": [
    {
     "data": {
      "text/plain": [
       "<seaborn.axisgrid.FacetGrid at 0x7fff88403650>"
      ]
     },
     "execution_count": 9,
     "metadata": {},
     "output_type": "execute_result"
    },
    {
     "data": {
      "image/png": "[encoded data removed]",
      "text/plain": [
       "<Figure size 288x288 with 1 Axes>"
      ]
     },
     "metadata": {
      "needs_background": "light"
     },
     "output_type": "display_data"
    },
    {
     "data": {
      "image/png": "[encoded data removed]",
      "text/plain": [
       "<Figure size 288x288 with 1 Axes>"
      ]
     },
     "metadata": {
      "needs_background": "light"
     },
     "output_type": "display_data"
    }
   ],
   "source": [
    "sns.relplot(x = \"Attack\",y = \"Sp. Atk\",data = data,height = 4,aspect = 1)\n",
    "sns.relplot(x = \"Attack\",y = \"Defense\",data = data,height = 4,aspect = 1)"
   ]
  },
  {
   "cell_type": "code",
   "execution_count": 10,
   "metadata": {},
   "outputs": [
    {
     "name": "stdout",
     "output_type": "stream",
     "text": [
      "#                     0\n",
      "Name                  0\n",
      "Type 1                0\n",
      "Type 2              386\n",
      "Total                 0\n",
      "HP                    0\n",
      "Attack                0\n",
      "Defense               0\n",
      "Sp. Atk               0\n",
      "Sp. Def               0\n",
      "Speed                 0\n",
      "Generation            0\n",
      "Legendary             0\n",
      "Attack_1              0\n",
      "Defense_1             0\n",
      "Attack^2              0\n",
      "Attack x Defense      0\n",
      "Defense^2             0\n",
      "dtype: int64\n"
     ]
    }
   ],
   "source": [
    "print(data.isnull().sum())\n",
    "# There are 386 Null values within the data, and are only in column \"Type 2\""
   ]
  },
  {
   "cell_type": "code",
   "execution_count": 11,
   "metadata": {},
   "outputs": [
    {
     "name": "stdout",
     "output_type": "stream",
     "text": [
      "0     Poison\n",
      "1     Poison\n",
      "2     Poison\n",
      "3     Poison\n",
      "4     Flying\n",
      "5     Flying\n",
      "6     Flying\n",
      "7     Dragon\n",
      "8     Flying\n",
      "9     Flying\n",
      "10    Flying\n",
      "11    Flying\n",
      "Name: Type 2, dtype: object\n"
     ]
    }
   ],
   "source": [
    "# Populating The Null values with the statistical mode \n",
    "\n",
    "data['Type 2'].loc[(data['Type 2'].isnull())] = data['Type 2'].mode().max()\n",
    "print(data['Type 2'].head(12))\n"
   ]
  },
  {
   "cell_type": "code",
   "execution_count": 12,
   "metadata": {},
   "outputs": [
    {
     "data": {
      "text/html": [
       "<div>\n",
       "<style scoped>\n",
       "    .dataframe tbody tr th:only-of-type {\n",
       "        vertical-align: middle;\n",
       "    }\n",
       "\n",
       "    .dataframe tbody tr th {\n",
       "        vertical-align: top;\n",
       "    }\n",
       "\n",
       "    .dataframe thead th {\n",
       "        text-align: right;\n",
       "    }\n",
       "</style>\n",
       "<table border=\"1\" class=\"dataframe\">\n",
       "  <thead>\n",
       "    <tr style=\"text-align: right;\">\n",
       "      <th></th>\n",
       "      <th>#</th>\n",
       "      <th>Name</th>\n",
       "      <th>Type 1</th>\n",
       "      <th>Type 2</th>\n",
       "      <th>Total</th>\n",
       "      <th>HP</th>\n",
       "      <th>Attack</th>\n",
       "      <th>Defense</th>\n",
       "      <th>Sp. Atk</th>\n",
       "      <th>Sp. Def</th>\n",
       "      <th>Speed</th>\n",
       "      <th>Generation</th>\n",
       "      <th>Legendary</th>\n",
       "      <th>Attack_1</th>\n",
       "      <th>Defense_1</th>\n",
       "      <th>Attack^2</th>\n",
       "      <th>Attack x Defense</th>\n",
       "      <th>Defense^2</th>\n",
       "    </tr>\n",
       "  </thead>\n",
       "  <tbody>\n",
       "    <tr>\n",
       "      <th>0</th>\n",
       "      <td>1</td>\n",
       "      <td>Bulbasaur</td>\n",
       "      <td>9</td>\n",
       "      <td>13</td>\n",
       "      <td>318</td>\n",
       "      <td>45</td>\n",
       "      <td>49</td>\n",
       "      <td>49</td>\n",
       "      <td>65</td>\n",
       "      <td>65</td>\n",
       "      <td>45</td>\n",
       "      <td>0</td>\n",
       "      <td>False</td>\n",
       "      <td>49.0</td>\n",
       "      <td>49.0</td>\n",
       "      <td>2401.0</td>\n",
       "      <td>2401.0</td>\n",
       "      <td>2401.0</td>\n",
       "    </tr>\n",
       "    <tr>\n",
       "      <th>1</th>\n",
       "      <td>2</td>\n",
       "      <td>Ivysaur</td>\n",
       "      <td>9</td>\n",
       "      <td>13</td>\n",
       "      <td>405</td>\n",
       "      <td>60</td>\n",
       "      <td>62</td>\n",
       "      <td>63</td>\n",
       "      <td>80</td>\n",
       "      <td>80</td>\n",
       "      <td>60</td>\n",
       "      <td>0</td>\n",
       "      <td>False</td>\n",
       "      <td>62.0</td>\n",
       "      <td>63.0</td>\n",
       "      <td>3844.0</td>\n",
       "      <td>3906.0</td>\n",
       "      <td>3969.0</td>\n",
       "    </tr>\n",
       "    <tr>\n",
       "      <th>2</th>\n",
       "      <td>3</td>\n",
       "      <td>Venusaur</td>\n",
       "      <td>9</td>\n",
       "      <td>13</td>\n",
       "      <td>525</td>\n",
       "      <td>80</td>\n",
       "      <td>82</td>\n",
       "      <td>83</td>\n",
       "      <td>100</td>\n",
       "      <td>100</td>\n",
       "      <td>80</td>\n",
       "      <td>0</td>\n",
       "      <td>False</td>\n",
       "      <td>82.0</td>\n",
       "      <td>83.0</td>\n",
       "      <td>6724.0</td>\n",
       "      <td>6806.0</td>\n",
       "      <td>6889.0</td>\n",
       "    </tr>\n",
       "    <tr>\n",
       "      <th>3</th>\n",
       "      <td>3</td>\n",
       "      <td>VenusaurMega Venusaur</td>\n",
       "      <td>9</td>\n",
       "      <td>13</td>\n",
       "      <td>625</td>\n",
       "      <td>80</td>\n",
       "      <td>100</td>\n",
       "      <td>123</td>\n",
       "      <td>122</td>\n",
       "      <td>120</td>\n",
       "      <td>80</td>\n",
       "      <td>0</td>\n",
       "      <td>False</td>\n",
       "      <td>100.0</td>\n",
       "      <td>123.0</td>\n",
       "      <td>10000.0</td>\n",
       "      <td>12300.0</td>\n",
       "      <td>15129.0</td>\n",
       "    </tr>\n",
       "    <tr>\n",
       "      <th>4</th>\n",
       "      <td>4</td>\n",
       "      <td>Charmander</td>\n",
       "      <td>6</td>\n",
       "      <td>7</td>\n",
       "      <td>309</td>\n",
       "      <td>39</td>\n",
       "      <td>52</td>\n",
       "      <td>43</td>\n",
       "      <td>60</td>\n",
       "      <td>50</td>\n",
       "      <td>65</td>\n",
       "      <td>0</td>\n",
       "      <td>False</td>\n",
       "      <td>52.0</td>\n",
       "      <td>43.0</td>\n",
       "      <td>2704.0</td>\n",
       "      <td>2236.0</td>\n",
       "      <td>1849.0</td>\n",
       "    </tr>\n",
       "  </tbody>\n",
       "</table>\n",
       "</div>"
      ],
      "text/plain": [
       "   #                   Name  Type 1  Type 2  Total  HP  Attack  Defense  \\\n",
       "0  1              Bulbasaur       9      13    318  45      49       49   \n",
       "1  2                Ivysaur       9      13    405  60      62       63   \n",
       "2  3               Venusaur       9      13    525  80      82       83   \n",
       "3  3  VenusaurMega Venusaur       9      13    625  80     100      123   \n",
       "4  4             Charmander       6       7    309  39      52       43   \n",
       "\n",
       "   Sp. Atk  Sp. Def  Speed  Generation  Legendary  Attack_1  Defense_1  \\\n",
       "0       65       65     45           0      False      49.0       49.0   \n",
       "1       80       80     60           0      False      62.0       63.0   \n",
       "2      100      100     80           0      False      82.0       83.0   \n",
       "3      122      120     80           0      False     100.0      123.0   \n",
       "4       60       50     65           0      False      52.0       43.0   \n",
       "\n",
       "   Attack^2  Attack x Defense  Defense^2  \n",
       "0    2401.0            2401.0     2401.0  \n",
       "1    3844.0            3906.0     3969.0  \n",
       "2    6724.0            6806.0     6889.0  \n",
       "3   10000.0           12300.0    15129.0  \n",
       "4    2704.0            2236.0     1849.0  "
      ]
     },
     "execution_count": 12,
     "metadata": {},
     "output_type": "execute_result"
    }
   ],
   "source": [
    "from sklearn.preprocessing import LabelEncoder\n",
    "LE = LabelEncoder()\n",
    "data['Type 1'] = LE.fit_transform(data['Type 1'])\n",
    "data['Type 2'] = LE.fit_transform(data['Type 2'])\n",
    "data['Generation'] = LE.fit_transform(data['Generation'])\n",
    "data.head()"
   ]
  },
  {
   "cell_type": "code",
   "execution_count": 41,
   "metadata": {},
   "outputs": [],
   "source": [
    "train,test = train_test_split(data,test_size = 0.3,shuffle = True)\n",
    "train_x,train_y = train[['Type 1','Type 2','Total','HP','Attack','Defense','Sp. Atk', 'Sp. Def','Speed','Generation','Attack_1','Defense_1','Attack^2','Attack x Defense','Defense^2']],train[\"Legendary\"]\n",
    "test_x,test_y = test[['Type 1','Type 2','Total','HP','Attack','Defense','Sp. Atk', 'Sp. Def','Speed','Generation','Attack_1','Defense_1','Attack^2','Attack x Defense','Defense^2']],test[\"Legendary\"]"
   ]
  },
  {
   "cell_type": "code",
   "execution_count": 42,
   "metadata": {},
   "outputs": [],
   "source": [
    "lgb_hps = { 'num_leaves': hp.choice('num_leaves',np.arange(100, 200, 10, dtype=int)),\n",
    "            'max_depth': hp.choice('max_depth',np.arange(5, 16, 1, dtype=int)),\n",
    "            'feature_fraction': hp.uniform('feature_fraction', 0.75, 1.0),\n",
    "            'bagging_fraction': hp.uniform('bagging_fraction', 0.75, 1.0),\n",
    "            'learning_rate': hp.loguniform('learning_rate', -5.0, -2.3),\n",
    "            'lambda_l1': hp.uniform('lambda_l1', 0, 10),\n",
    "            'lambda_l2': hp.uniform('lambda_l2', 0, 10)\n",
    "          }\n",
    "\n",
    "num_leaves_list = [100,110,120,130,140,150,160,170,180,190,200]"
   ]
  },
  {
   "cell_type": "code",
   "execution_count": 43,
   "metadata": {},
   "outputs": [],
   "source": [
    "accuracy_list_lgbm = []\n",
    "def HPO_lgbm(lgb_hps):\n",
    "    num_round = 50\n",
    "    train_data=lgb.Dataset(train_x,label=train_y)\n",
    "    lgbm=lgb.train(lgb_hps,train_data,num_round)\n",
    "    ypred2=lgbm.predict(test_x)\n",
    "    accuracy_lgbm = roc_auc_score(test_y,ypred2).mean()\n",
    "    accuracy_list_lgbm.append(accuracy_lgbm)\n",
    "    return {'loss': -accuracy_lgbm, 'status': STATUS_OK }"
   ]
  },
  {
   "cell_type": "code",
   "execution_count": 44,
   "metadata": {},
   "outputs": [
    {
     "name": "stdout",
     "output_type": "stream",
     "text": [
      "100%|██████████| 80/80 [00:03<00:00, 26.15trial/s, best loss: -0.9821386044296261]\n",
      "Best Hyperparameters for LGBM are: \n",
      "\n"
     ]
    },
    {
     "data": {
      "text/plain": [
       "{'bagging_fraction': 0.7505929370424964,\n",
       " 'feature_fraction': 0.801270354810801,\n",
       " 'lambda_l1': 2.8378980088454835,\n",
       " 'lambda_l2': 0.7317162185700035,\n",
       " 'learning_rate': 0.06079160873022599,\n",
       " 'max_depth': 2,\n",
       " 'num_leaves': 4}"
      ]
     },
     "execution_count": 44,
     "metadata": {},
     "output_type": "execute_result"
    }
   ],
   "source": [
    "trials = Trials()\n",
    "best_lgbm = fmin(fn= HPO_lgbm,\n",
    "            space= lgb_hps,\n",
    "            algo= tpe.suggest,\n",
    "            max_evals = 80,\n",
    "            trials = trials\n",
    "            )\n",
    "max_acc_lgbm = max(accuracy_list_lgbm)\n",
    "print(\"Best Hyperparameters for LGBM are: \\n\")\n",
    "best_lgbm"
   ]
  },
  {
   "cell_type": "code",
   "execution_count": 45,
   "metadata": {},
   "outputs": [
    {
     "name": "stdout",
     "output_type": "stream",
     "text": [
      "Best num_leaves   =   4\n",
      "Best max_depth   =   2\n",
      "Best feature_fraction   =   0.801270354810801\n",
      "Best bagging_fraction   =   0.7505929370424964\n",
      "Best learning_rate   =   0.06079160873022599\n",
      "Best lambda_l1   =   2.8378980088454835\n",
      "Best lambda_l2   =   0.7317162185700035\n"
     ]
    },
    {
     "data": {
      "image/png": "[encoded data removed]",
      "text/plain": [
       "<Figure size 720x576 with 8 Axes>"
      ]
     },
     "metadata": {
      "needs_background": "light"
     },
     "output_type": "display_data"
    }
   ],
   "source": [
    "parameters = ['num_leaves','max_depth','feature_fraction','bagging_fraction','learning_rate','lambda_l1','lambda_l2']\n",
    "f, axes = plt.subplots(nrows=4, ncols=2, figsize=(10,8))\n",
    "f.tight_layout()\n",
    "cmap = plt.cm.jet\n",
    "for i, val in enumerate(parameters):\n",
    "    print(\"Best \" + str(val) + \"   =   \" + str(best_lgbm[val]))\n",
    "    xs = np.array([t['misc']['vals'][val] for t in trials.trials]).ravel()\n",
    "    ys = [-t['result']['loss'] for t in trials.trials]\n",
    "    xs, ys = zip(*sorted(zip(xs, ys)))\n",
    "    ys = np.array(ys)\n",
    "    c=np.array(cmap(float(i)/len(parameters)))\n",
    "    axes[i//2,i%2].scatter(xs, ys, s=20, linewidth=0.01, alpha=0.5, c=c.reshape(1,-1))\n",
    "    axes[i//2,i%2].scatter(best_lgbm[val],max_acc_lgbm,color = \"red\")\n",
    "    axes[i//2,i%2].set_title(val)"
   ]
  },
  {
   "cell_type": "code",
   "execution_count": 46,
   "metadata": {},
   "outputs": [
    {
     "name": "stdout",
     "output_type": "stream",
     "text": [
      "Accuracy score =  94.583 %\n",
      "Execution time =  0:00:00.020660\n",
      "Prediction time =  0:00:00.003030\n"
     ]
    }
   ],
   "source": [
    "params = { \n",
    "            'num_leaves': num_leaves_list[best_lgbm['num_leaves']],\n",
    "            'max_depth': best_lgbm['max_depth'],\n",
    "#             'n_estimators': best_lgbm['n_estimators'],\n",
    "            'feature_fraction':best_lgbm['feature_fraction'],\n",
    "            'bagging_fraction':best_lgbm['bagging_fraction'],\n",
    "            'learning_rate':best_lgbm['learning_rate'],\n",
    "            'lambda_l1': best_lgbm['lambda_l1'],\n",
    "            'lambda_l2':best_lgbm['lambda_l2']\n",
    "          }\n",
    "train_data=lgb.Dataset(train_x,label=train_y)\n",
    "\n",
    "num_round=100\n",
    "t1=datetime.now()\n",
    "lgbm=lgb.train(params,train_data,num_round)\n",
    "t2=datetime.now()\n",
    "execution_time_lgbm = t2-t1\n",
    "t3 = datetime.now()\n",
    "ypred2=lgbm.predict(test_x)\n",
    "t4 = datetime.now()\n",
    "\n",
    "for i in range(0,len(ypred2)): \n",
    "    if ypred2[i] >=0.5:\n",
    "        ypred2[i] = 1\n",
    "    else:\n",
    "        ypred2[i] = 0\n",
    "accuracy_lgbm = round(accuracy_score(ypred2,test_y),5)\n",
    "print(\"Accuracy score = \",accuracy_lgbm*100,\"%\")\n",
    "print(\"Execution time = \",execution_time_lgbm)\n",
    "print(\"Prediction time = \",t4-t3)\n",
    "lgbm_train_time = t2-t1"
   ]
  },
  {
   "cell_type": "code",
   "execution_count": 19,
   "metadata": {},
   "outputs": [],
   "source": [
    "xgb_hps = {  \n",
    "            'learning_rate':     hp.loguniform('learning_rate', -5.0, -2.3),\n",
    "            'max_depth':         hp.choice('max_depth',np.arange(5,16,1,dtype = int)),\n",
    "            'lambda':            hp.quniform('lambda',2, 16, 1),\n",
    "            'subsample':        hp.quniform('subsample',0.1,1.0,0.1),\n",
    "            'colsample_bytree': hp.quniform('colsample_bytree',0.3, 0.8, 0.1),\n",
    "            'min_split_loss' : hp.quniform('min_split_loss',0.1,2.0,0.1)\n",
    "        }\n",
    "\n",
    "depth_list = [i for i in range(5,16,1)]"
   ]
  },
  {
   "cell_type": "code",
   "execution_count": 20,
   "metadata": {},
   "outputs": [],
   "source": [
    "accuracy_list_xgb = []\n",
    "def HPO_xgb(xgb_hps):\n",
    "    model = model = XGBClassifier(**xgb_hps)\n",
    "    model.fit(train_x,train_y)\n",
    "    y_pred = model.predict(test_x)\n",
    "    accuracy_xgb = accuracy_score(y_pred,test_y).mean()\n",
    "    accuracy_list_xgb.append(accuracy_xgb)\n",
    "    return {'loss': -accuracy_xgb, 'status': STATUS_OK }"
   ]
  },
  {
   "cell_type": "code",
   "execution_count": 21,
   "metadata": {},
   "outputs": [
    {
     "name": "stdout",
     "output_type": "stream",
     "text": [
      "100%|██████████| 80/80 [00:06<00:00, 12.75trial/s, best loss: -0.9541666666666667]\n",
      "Best Hyperparameters for XGBoost are: \n",
      "\n"
     ]
    },
    {
     "data": {
      "text/plain": [
       "{'colsample_bytree': 0.5,\n",
       " 'lambda': 16.0,\n",
       " 'learning_rate': 0.08996439725877778,\n",
       " 'max_depth': 0,\n",
       " 'min_split_loss': 0.5,\n",
       " 'subsample': 0.7000000000000001}"
      ]
     },
     "execution_count": 21,
     "metadata": {},
     "output_type": "execute_result"
    }
   ],
   "source": [
    "trials = Trials()\n",
    "best_xgb = fmin(fn= HPO_xgb,\n",
    "            space= xgb_hps,\n",
    "            algo= tpe.suggest,\n",
    "            max_evals = 80,\n",
    "            trials = trials\n",
    "            )\n",
    "max_acc_xgb = max(accuracy_list_xgb)\n",
    "print(\"Best Hyperparameters for XGBoost are: \\n\")\n",
    "best_xgb"
   ]
  },
  {
   "cell_type": "code",
   "execution_count": 22,
   "metadata": {},
   "outputs": [
    {
     "name": "stdout",
     "output_type": "stream",
     "text": [
      "Best max_depth   =   5\n",
      "Best subsample   =   0.7000000000000001\n",
      "Best learning_rate   =   0.08996439725877778\n",
      "Best min_split_loss   =   0.5\n",
      "Best lambda   =   16.0\n",
      "Best colsample_bytree   =   0.5\n"
     ]
    },
    {
     "data": {
      "image/png": "[encoded data removed]",
      "text/plain": [
       "<Figure size 1080x576 with 6 Axes>"
      ]
     },
     "metadata": {
      "needs_background": "light"
     },
     "output_type": "display_data"
    }
   ],
   "source": [
    "parameters = ['max_depth','subsample','learning_rate','min_split_loss','lambda','colsample_bytree']\n",
    "f, axes = plt.subplots(nrows=3, ncols=2, figsize=(15,8))\n",
    "f.tight_layout()\n",
    "cmap = plt.cm.jet\n",
    "for i, val in enumerate(parameters):\n",
    "    if val == 'max_depth':\n",
    "        best_xgb[val] = depth_list[best_xgb[val]]\n",
    "    print(\"Best \" + str(val) + \"   =   \" + str(best_xgb[val]))\n",
    "    xs = np.array([t['misc']['vals'][val] for t in trials.trials]).ravel()\n",
    "    ys = [-t['result']['loss'] for t in trials.trials]\n",
    "    xs, ys = zip(*sorted(zip(xs, ys)))\n",
    "    ys = np.array(ys)\n",
    "    c=np.array(cmap(float(i)/len(parameters)))\n",
    "    axes[i//2,i%2].scatter(xs, ys, s=20, linewidth=0.01, alpha=0.5, c=c.reshape(1,-1))\n",
    "    axes[i//2,i%2].scatter(best_xgb[val],max_acc_xgb,color = \"red\")\n",
    "    axes[i//2,i%2].set_title(val)"
   ]
  },
  {
   "cell_type": "code",
   "execution_count": 23,
   "metadata": {},
   "outputs": [
    {
     "name": "stdout",
     "output_type": "stream",
     "text": [
      "Accuracy score =  95.417 %\n",
      "Execution time =  0:00:00.045825\n",
      "Prediction time =  0:00:00.001938\n"
     ]
    }
   ],
   "source": [
    "model = XGBClassifier(**best_xgb)\n",
    "t1=datetime.now()\n",
    "model.fit(train_x,train_y)\n",
    "t2=datetime.now()\n",
    "execution_time_xgb = t2-t1\n",
    "t3 = datetime.now()\n",
    "y_pred = model.predict(test_x)\n",
    "t4 = datetime.now()\n",
    "predictions = [round(value) for value in y_pred]\n",
    "accuracy_xgb = round(accuracy_score(y_pred,test_y),5)\n",
    "print(\"Accuracy score = \",accuracy_xgb*100,\"%\")\n",
    "print(\"Execution time = \",execution_time_xgb)\n",
    "print(\"Prediction time = \",t4-t3)\n",
    "xgb_train_time = t2-t1"
   ]
  },
  {
   "cell_type": "code",
   "execution_count": 24,
   "metadata": {},
   "outputs": [],
   "source": [
    "num_threads = 25\n",
    "sb_hps = {\n",
    "            'objective': 'mse',\n",
    "#             'num_round': hp.uniform('num_round', 10, 700, 1),\n",
    "            'min_max_depth':hp.choice('min_max_depth',np.arange(1,6,1,dtype = int)), \n",
    "            'max_max_depth':hp.choice('max_max_depth',np.arange(6,10,1,dtype = int)),\n",
    "            'learning_rate':hp.loguniform('learning_rate', -5.0, -2.3), \n",
    "            'colsample_bytree': hp.quniform('colsample_bytree',0.3, 0.8, 0.1),\n",
    "            'lambda_l2':hp.quniform('lambda_l2',2, 16, 1),\n",
    "            'subsample':hp.quniform('subsample',0.3, 1.0, 0.1),\n",
    "            'hist_nbins': 10,\n",
    "            'random_state':42, \n",
    "            'n_threads':num_threads\n",
    "}\n",
    "depth_list_min = [i for i in range(1,6,1)]\n",
    "depth_list_max = [i for i in range(6,10,1)]"
   ]
  },
  {
   "cell_type": "code",
   "execution_count": 25,
   "metadata": {},
   "outputs": [],
   "source": [
    "accuracy_list_sb = []\n",
    "def HPO_sb(sb_hps):\n",
    "    model = model = BoostingMachine(**sb_hps)\n",
    "    model.fit(train_x.to_numpy(),train_y.to_numpy())\n",
    "    y_pred = model.predict(test_x.to_numpy())\n",
    "    accuracy_sb = accuracy_score(y_pred.round(),test_y).mean()\n",
    "    accuracy_list_sb.append(accuracy_sb)\n",
    "    return {'loss': -accuracy_sb, 'status': STATUS_OK }"
   ]
  },
  {
   "cell_type": "code",
   "execution_count": 26,
   "metadata": {},
   "outputs": [
    {
     "name": "stdout",
     "output_type": "stream",
     "text": [
      "100%|██████████| 180/180 [00:16<00:00, 11.09trial/s, best loss: -0.8916666666666667]\n",
      "Best Hyperparameters for SnapBoost are: \n",
      "\n"
     ]
    },
    {
     "data": {
      "text/plain": [
       "{'colsample_bytree': 0.30000000000000004,\n",
       " 'lambda_l2': 7.0,\n",
       " 'learning_rate': 0.006829771649240223,\n",
       " 'max_max_depth': 1,\n",
       " 'min_max_depth': 2,\n",
       " 'subsample': 0.8}"
      ]
     },
     "execution_count": 26,
     "metadata": {},
     "output_type": "execute_result"
    }
   ],
   "source": [
    "trials = Trials()\n",
    "best_sb = fmin(fn= HPO_sb,\n",
    "            space= sb_hps,\n",
    "            algo= tpe.suggest,\n",
    "            max_evals = 180,\n",
    "            trials = trials\n",
    "            )\n",
    "max_acc_sb = max(accuracy_list_sb)\n",
    "print(\"Best Hyperparameters for SnapBoost are: \\n\")\n",
    "best_sb"
   ]
  },
  {
   "cell_type": "code",
   "execution_count": 27,
   "metadata": {},
   "outputs": [
    {
     "name": "stdout",
     "output_type": "stream",
     "text": [
      "Best min_max_depth   =   3\n",
      "Best max_max_depth   =   7\n",
      "Best learning_rate   =   0.006829771649240223\n",
      "Best colsample_bytree   =   0.30000000000000004\n",
      "Best lambda_l2   =   7.0\n",
      "Best subsample   =   0.8\n"
     ]
    },
    {
     "data": {
      "image/png": "[encoded data removed]",
      "text/plain": [
       "<Figure size 1080x576 with 6 Axes>"
      ]
     },
     "metadata": {
      "needs_background": "light"
     },
     "output_type": "display_data"
    }
   ],
   "source": [
    "parameters = ['min_max_depth','max_max_depth','learning_rate','colsample_bytree','lambda_l2','subsample']\n",
    "f, axes = plt.subplots(nrows=3, ncols=2, figsize=(15,8))\n",
    "f.tight_layout()\n",
    "cmap = plt.cm.jet\n",
    "for i, val in enumerate(parameters):\n",
    "    if val == 'min_max_depth' :\n",
    "        best_sb[val] = depth_list_min[best_sb[val]]\n",
    "    if val == 'max_max_depth':\n",
    "        best_sb[val] = depth_list_max[best_sb[val]]\n",
    "    print(\"Best \" + str(val) + \"   =   \" + str(best_sb[val]))\n",
    "    xs = np.array([t['misc']['vals'][val] for t in trials.trials]).ravel()\n",
    "    ys = [-t['result']['loss'] for t in trials.trials]\n",
    "    xs, ys = zip(*sorted(zip(xs, ys)))\n",
    "    ys = np.array(ys)\n",
    "    c=np.array(cmap(float(i)/len(parameters)))\n",
    "    axes[i//2,i%2].scatter(xs, ys, s=20, linewidth=0.01, alpha=0.5, c=c.reshape(1,-1))\n",
    "    axes[i//2,i%2].scatter(best_sb[val],max_acc_sb,color = \"red\")\n",
    "    axes[i//2,i%2].set_title(val)"
   ]
  },
  {
   "cell_type": "code",
   "execution_count": 32,
   "metadata": {},
   "outputs": [
    {
     "name": "stdout",
     "output_type": "stream",
     "text": [
      "Accuracy score =  65.12 %\n",
      "Execution time =  0:00:00.019875\n",
      "Prediction time =  0:00:00.000488\n"
     ]
    }
   ],
   "source": [
    "max_max_depth = 6\n",
    "min_max_depth = 6\n",
    "num_round = 60\n",
    "learning_rate = 0.1\n",
    "num_threads = 25\n",
    "booster = BoostingMachine(**best_sb)\n",
    "t1=datetime.now()\n",
    "booster.fit(train_x.to_numpy(), train_y.to_numpy())\n",
    "t2=datetime.now()\n",
    "execution_time_snap_boost = t2-t1\n",
    "t3 = datetime.now()\n",
    "ypred = booster.predict(test_x.to_numpy())\n",
    "t4 = datetime.now()\n",
    "accuracy_snap_boost = round(roc_auc_score(test_y,ypred),2)\n",
    "print(\"Accuracy score = \",accuracy_snap_boost*100,\"%\")\n",
    "print(\"Execution time = \",execution_time_snap_boost)\n",
    "print(\"Prediction time = \",t4-t3)\n",
    "snap_boost_train_time = t2-t1"
   ]
  },
  {
   "cell_type": "code",
   "execution_count": 33,
   "metadata": {},
   "outputs": [
    {
     "data": {
      "image/png": "[encoded data removed]",
      "text/plain": [
       "<Figure size 288x360 with 1 Axes>"
      ]
     },
     "metadata": {
      "needs_background": "light"
     },
     "output_type": "display_data"
    }
   ],
   "source": [
    "import matplotlib.pyplot as plt\n",
    "fig = plt.figure(figsize = (4,5))\n",
    "ax = fig.add_axes([0,0,1,1])\n",
    "algorithms = ['LightGBM','XGBoost','SnapBoost']\n",
    "accuracy = [accuracy_lgbm*100, accuracy_xgb*100,accuracy_snap_boost*100]\n",
    "g = ax.bar(algorithms,accuracy)\n",
    "plt.title(\"Accuracy Plot\")\n",
    "plt.xlabel(\"Algorithms on the Numeric Dataset\")\n",
    "plt.ylabel(\"Accuracy in %\")\n",
    "bar_label = [accuracy_lgbm*100, accuracy_xgb*100,accuracy_snap_boost*100]\n",
    "def autolabel(rects):\n",
    "    for idx,rect in enumerate(g):\n",
    "        height = rect.get_height()\n",
    "        ax.text(rect.get_x() + rect.get_width()/2., 1.0*height,\n",
    "                bar_label[idx],\n",
    "                ha='center', va='bottom', rotation=0)\n",
    "\n",
    "autolabel(g)\n",
    "plt.show()"
   ]
  },
  {
   "cell_type": "code",
   "execution_count": 34,
   "metadata": {},
   "outputs": [
    {
     "data": {
      "image/png": "[encoded data removed]",
      "text/plain": [
       "<Figure size 288x360 with 1 Axes>"
      ]
     },
     "metadata": {
      "needs_background": "light"
     },
     "output_type": "display_data"
    }
   ],
   "source": [
    "lg = float(str(lgbm_train_time)[5:])\n",
    "sb = float(str(snap_boost_train_time)[5:])\n",
    "xgb = float(str(xgb_train_time)[5:])\n",
    "fig1 = plt.figure(figsize = (4,5))\n",
    "ay = fig1.add_axes([0,0,1,1])\n",
    "algorithms = ['LightGBM','XGBoost','SnapBoost']\n",
    "training_time = [lg,xgb,sb]\n",
    "g1 = ay.bar(algorithms,training_time)\n",
    "plt.title(\"Training Time Plot\")\n",
    "plt.xlabel(\"Algorithms on the Numeric Dataset\")\n",
    "plt.ylabel(\"Time Taken in Seconds\")\n",
    "bar_label = training_time\n",
    "def autolabel1(rects):\n",
    "    for idx,rect in enumerate(g1):\n",
    "        height = rect.get_height()\n",
    "        ay.text(rect.get_x() + rect.get_width()/2., 1.0*height,\n",
    "                bar_label[idx],\n",
    "                ha='center', va='bottom', rotation=0)\n",
    "\n",
    "autolabel1(g1)\n",
    "plt.show()"
   ]
  },
  {
   "cell_type": "code",
   "execution_count": null,
   "metadata": {},
   "outputs": [],
   "source": []
  }
 ],
 "metadata": {
  "kernelspec": {
   "display_name": "Python 3",
   "language": "python",
   "name": "python3"
  },
  "language_info": {
   "codemirror_mode": {
    "name": "ipython",
    "version": 3
   },
   "file_extension": ".py",
   "mimetype": "text/x-python",
   "name": "python",
   "nbconvert_exporter": "python",
   "pygments_lexer": "ipython3",
   "version": "3.7.7"
  }
 },
 "nbformat": 4,
 "nbformat_minor": 4
}
