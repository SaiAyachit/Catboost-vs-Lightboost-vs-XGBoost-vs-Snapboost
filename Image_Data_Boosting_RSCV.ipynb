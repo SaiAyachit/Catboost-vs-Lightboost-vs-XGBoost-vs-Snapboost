{
  "nbformat": 4,
  "nbformat_minor": 0,
  "metadata": {
    "kernelspec": {
      "name": "python3",
      "display_name": "Python 3",
      "language": "python"
    },
    "language_info": {
      "name": "python",
      "version": "3.7.6",
      "mimetype": "text/x-python",
      "codemirror_mode": {
        "name": "ipython",
        "version": 3
      },
      "pygments_lexer": "ipython3",
      "nbconvert_exporter": "python",
      "file_extension": ".py"
    },
    "colab": {
      "name": "Image_Data_Boosting_RSCV.ipynb",
      "provenance": [],
      "include_colab_link": true
    },
    "accelerator": "GPU"
  },
  "cells": [
    {
      "cell_type": "markdown",
      "metadata": {
        "id": "view-in-github",
        "colab_type": "text"
      },
      "source": [
        "<a href=\"https://colab.research.google.com/github/anubhav48/Catboost-vs-Lightboost-vs-XGBoost-vs-Snapboost/blob/master/Image_Data_Boosting_RSCV.ipynb\" target=\"_parent\"><img src=\"https://colab.research.google.com/assets/colab-badge.svg\" alt=\"Open In Colab\"/></a>"
      ]
    },
    {
      "cell_type": "code",
      "metadata": {
        "_uuid": "d629ff2d2480ee46fbb7e2d37f6b5fab8052498a",
        "_cell_guid": "79c7e3d0-c299-4dcb-8224-4455121ee9b0",
        "trusted": true,
        "id": "kHxbj2ai0dWC",
        "colab_type": "code",
        "colab": {
          "base_uri": "https://localhost:8080/",
          "height": 34
        },
        "outputId": "597f71bf-bdbb-43a6-b65c-eb18d2986f14"
      },
      "source": [
        "!pip install xgboost --quiet\n",
        "!pip install catboost --quiet\n",
        "!pip install lightgbm --quiet\n",
        "!pip install hyperopt --quiet"
      ],
      "execution_count": null,
      "outputs": [
        {
          "output_type": "stream",
          "text": [
            "\u001b[K     |████████████████████████████████| 64.8MB 67kB/s \n",
            "\u001b[?25h"
          ],
          "name": "stdout"
        }
      ]
    },
    {
      "cell_type": "code",
      "metadata": {
        "trusted": true,
        "id": "PjZcTepR0dWL",
        "colab_type": "code",
        "colab": {
          "base_uri": "https://localhost:8080/",
          "height": 34
        },
        "outputId": "61616ed3-f895-4650-adb1-5fe4b4c248ca"
      },
      "source": [
        "from keras.datasets import cifar10\n",
        "from sklearn import metrics\n",
        "import catboost as ctb\n",
        "from sklearn.model_selection import cross_val_score    \n",
        "import warnings\n",
        "warnings.filterwarnings('ignore')\n",
        "import time\n",
        "start_time = time.time()\n",
        "import numpy as np\n",
        "import pandas as pd\n",
        "#import sys\n",
        "import os\n",
        "from datetime import datetime\n",
        "from sklearn.model_selection import train_test_split\n",
        "from sklearn.metrics import accuracy_score \n",
        "import lightgbm as lgb\n",
        "import matplotlib as mpl\n",
        "import seaborn as sns\n",
        "from matplotlib import pyplot as plt\n",
        "from sklearn.metrics import roc_auc_score\n",
        "from catboost import Pool,CatBoostClassifier\n",
        "from xgboost import XGBClassifier\n",
        "from sklearn.model_selection import StratifiedKFold\n",
        "from sklearn.model_selection import cross_val_score\n",
        "\n",
        "from hyperopt import hp, fmin, tpe, STATUS_OK, Trials\n",
        "from sklearn.model_selection import RandomizedSearchCV\n",
        "from sklearn.model_selection import GridSearchCV"
      ],
      "execution_count": null,
      "outputs": [
        {
          "output_type": "stream",
          "text": [
            "Using TensorFlow backend.\n"
          ],
          "name": "stderr"
        }
      ]
    },
    {
      "cell_type": "code",
      "metadata": {
        "trusted": true,
        "id": "0pqwSjAK0dWV",
        "colab_type": "code",
        "colab": {}
      },
      "source": [
        "import keras\n",
        "# from keras.datasets import cifar10\n",
        "from keras.preprocessing.image import ImageDataGenerator\n",
        "from keras.models import Sequential\n",
        "from keras.layers import Dense, Dropout, Activation, Flatten\n",
        "from keras.layers import Conv2D, MaxPooling2D\n",
        "from keras import backend as K\n",
        "import numpy as np\n",
        "import pickle\n",
        "import sys\n",
        "import os\n",
        "\n",
        "#\n",
        "# TAKEN FROM https://keras.io/examples/cifar10_cnn/\n",
        "# but with load_data() pulled out to work with your own cifar data set\n",
        "#\n",
        "\n",
        "def load_batch(fpath, label_key='labels'):\n",
        "    \"\"\"Internal utility for parsing CIFAR data.\n",
        "    # Arguments\n",
        "        fpath: path the file to parse.\n",
        "        label_key: key for label data in the retrieve\n",
        "            dictionary.\n",
        "    # Returns\n",
        "        A tuple `(data, labels)`.\n",
        "    \"\"\"\n",
        "    with open(fpath, 'rb') as f:\n",
        "        if sys.version_info < (3,):\n",
        "            d = pickle.load(f)\n",
        "        else:\n",
        "            d = pickle.load(f, encoding='bytes')\n",
        "            # decode utf8\n",
        "            d_decoded = {}\n",
        "            for k, v in d.items():\n",
        "                    d_decoded[k.decode('utf8')] = v\n",
        "            d = d_decoded\n",
        "      \n",
        "    data = d['data']\n",
        "    labels = d[label_key]\n",
        "#     new_data  = np.array([])\n",
        "#     new_labels = np.array([])\n",
        "#     for i in range(len(labels)):\n",
        "#         if labels[i] in uni:\n",
        "#             np.append(new_data,data[i])\n",
        "#             np.append(new_data,labels[i])\n",
        "    data = data.reshape(data.shape[0], 3, 32, 32)\n",
        "    return data, labels\n",
        "\n",
        "\n",
        "def load_data():\n",
        "    \"\"\"Loads CIFAR10 dataset.\n",
        "    # Returns\n",
        "        Tuple of Numpy arrays: `(x_train, y_train), (x_test, y_test)`.\n",
        "    \"\"\"\n",
        "    path = '../input/cifar10-python/cifar-10-batches-py/'\n",
        "\n",
        "    num_train_samples = 5000\n",
        "\n",
        "    x_train_local = np.empty((num_train_samples, 3, 32, 32), dtype='uint8')\n",
        "    y_train_local = np.empty((num_train_samples,), dtype='uint8')\n",
        "\n",
        "    for i in range(1,1):\n",
        "        fpath = os.path.join(path, 'data_batch_' + str(i))\n",
        "        (x_train_local[(i - 1) * 1000: i * 1000, :, :, :],\n",
        "         y_train_local[(i - 1) * 1000: i * 1000]) = load_batch(fpath)\n",
        "    fpath = os.path.join(path, 'test_batch')\n",
        "    x_test_local, y_test_local = load_batch(fpath)\n",
        "    x_test_local = x_test_local[:1000]\n",
        "    y_test_local = y_test_local[:1000]\n",
        "    y_train_local = np.reshape(y_train_local, (len(y_train_local), 1))\n",
        "    y_test_local = np.reshape(y_test_local, (len(y_test_local), 1))\n",
        "\n",
        "    if K.image_data_format() == 'channels_last':\n",
        "        x_train_local = x_train_local.transpose(0, 2, 3, 1)\n",
        "        x_test_local = x_test_local.transpose(0, 2, 3, 1)\n",
        "\n",
        "    return (x_train_local, y_train_local), (x_test_local, y_test_local)\n",
        "\n",
        "\n",
        "batch_size = 32\n",
        "num_classes = 10\n",
        "epochs = 100\n",
        "data_augmentation = True\n",
        "num_predictions = 20\n",
        "save_dir = os.path.join(os.getcwd(), 'saved_models')\n",
        "model_name = 'keras_cifar10_trained_model.h5'"
      ],
      "execution_count": null,
      "outputs": []
    },
    {
      "cell_type": "code",
      "metadata": {
        "trusted": true,
        "id": "hwdwGCFz0dWd",
        "colab_type": "code",
        "colab": {
          "base_uri": "https://localhost:8080/",
          "height": 50
        },
        "outputId": "50dd635a-29e9-4a4e-ee71-fb86bf23ff7a"
      },
      "source": [
        "# data: shuffled and split between train and test sets\n",
        "(X_train, y_train), (X_test, y_test) = cifar10.load_data()"
      ],
      "execution_count": null,
      "outputs": [
        {
          "output_type": "stream",
          "text": [
            "Downloading data from https://www.cs.toronto.edu/~kriz/cifar-10-python.tar.gz\n",
            "170500096/170498071 [==============================] - 2s 0us/step\n"
          ],
          "name": "stdout"
        }
      ]
    },
    {
      "cell_type": "code",
      "metadata": {
        "trusted": true,
        "id": "eUOAA1yF0dWj",
        "colab_type": "code",
        "colab": {}
      },
      "source": [
        "X_train = X_train[:6000]\n",
        "y_train = y_train[:6000]\n",
        "X_test = X_test[:100]\n",
        "y_test = y_test[:100]"
      ],
      "execution_count": null,
      "outputs": []
    },
    {
      "cell_type": "code",
      "metadata": {
        "trusted": true,
        "id": "HxPprHUm0dWo",
        "colab_type": "code",
        "colab": {
          "base_uri": "https://localhost:8080/",
          "height": 34
        },
        "outputId": "11926a1c-1275-43db-a8cc-8cbf73f4d230"
      },
      "source": [
        "X_train.shape"
      ],
      "execution_count": null,
      "outputs": [
        {
          "output_type": "execute_result",
          "data": {
            "text/plain": [
              "(6000, 32, 32, 3)"
            ]
          },
          "metadata": {
            "tags": []
          },
          "execution_count": 6
        }
      ]
    },
    {
      "cell_type": "code",
      "metadata": {
        "trusted": true,
        "id": "da-s2H7i0dWt",
        "colab_type": "code",
        "colab": {
          "base_uri": "https://localhost:8080/",
          "height": 34
        },
        "outputId": "8fc86c2d-967a-482c-e199-c631f8c8f298"
      },
      "source": [
        "X_test.shape"
      ],
      "execution_count": null,
      "outputs": [
        {
          "output_type": "execute_result",
          "data": {
            "text/plain": [
              "(100, 32, 32, 3)"
            ]
          },
          "metadata": {
            "tags": []
          },
          "execution_count": 7
        }
      ]
    },
    {
      "cell_type": "code",
      "metadata": {
        "trusted": true,
        "id": "TI_xR2t00dWx",
        "colab_type": "code",
        "colab": {
          "base_uri": "https://localhost:8080/",
          "height": 134
        },
        "outputId": "f70ccd1f-5575-44ce-efaa-c4a1810b7889"
      },
      "source": [
        "y_train"
      ],
      "execution_count": null,
      "outputs": [
        {
          "output_type": "execute_result",
          "data": {
            "text/plain": [
              "array([[6],\n",
              "       [9],\n",
              "       [9],\n",
              "       ...,\n",
              "       [9],\n",
              "       [4],\n",
              "       [8]], dtype=uint8)"
            ]
          },
          "metadata": {
            "tags": []
          },
          "execution_count": 8
        }
      ]
    },
    {
      "cell_type": "code",
      "metadata": {
        "trusted": true,
        "id": "n4bgj2GV0dW1",
        "colab_type": "code",
        "colab": {}
      },
      "source": [
        " # X_train is 50000 rows of 3x32x32 values --> reshaped in 50000 x 3072\n",
        "RESHAPED = 3072\n",
        "X_train = X_train.reshape(6000, RESHAPED)\n",
        "X_test = X_test.reshape(100, RESHAPED)\n",
        "X_train = X_train.astype('float32')\n",
        "X_test = X_test.astype('float32')\n",
        "\n",
        "y_train = y_train.flatten()\n",
        "y_test = y_test.flatten()"
      ],
      "execution_count": null,
      "outputs": []
    },
    {
      "cell_type": "code",
      "metadata": {
        "trusted": true,
        "id": "s1XmHMMX0dW4",
        "colab_type": "code",
        "colab": {
          "base_uri": "https://localhost:8080/",
          "height": 34
        },
        "outputId": "384b0ab0-5c5f-422e-8a5f-9148a32267aa"
      },
      "source": [
        "X_train.shape"
      ],
      "execution_count": null,
      "outputs": [
        {
          "output_type": "execute_result",
          "data": {
            "text/plain": [
              "(6000, 3072)"
            ]
          },
          "metadata": {
            "tags": []
          },
          "execution_count": 10
        }
      ]
    },
    {
      "cell_type": "code",
      "metadata": {
        "trusted": true,
        "id": "wCPlqBQ90dW7",
        "colab_type": "code",
        "colab": {}
      },
      "source": [
        ""
      ],
      "execution_count": null,
      "outputs": []
    },
    {
      "cell_type": "code",
      "metadata": {
        "trusted": true,
        "id": "1yejnDXC0dW_",
        "colab_type": "code",
        "colab": {
          "base_uri": "https://localhost:8080/",
          "height": 50
        },
        "outputId": "69a66d60-14cc-4fed-c5ea-025885af9805"
      },
      "source": [
        "  # normalize the datasets\n",
        "X_train /= 255.\n",
        "X_test /= 255.\n",
        "\n",
        "print(X_train.shape[0], 'train samples')\n",
        "print(X_test.shape[0], 'test samples')"
      ],
      "execution_count": null,
      "outputs": [
        {
          "output_type": "stream",
          "text": [
            "6000 train samples\n",
            "100 test samples\n"
          ],
          "name": "stdout"
        }
      ]
    },
    {
      "cell_type": "code",
      "metadata": {
        "trusted": true,
        "id": "pZKI7DzT0dXC",
        "colab_type": "code",
        "colab": {}
      },
      "source": [
        "from sklearn import preprocessing\n",
        "def multiclass_roc_auc_score(y_test, pred, average=\"macro\"):\n",
        "    lb = preprocessing.LabelBinarizer() \n",
        "    lb.fit(y_test)\n",
        "    y_test = lb.transform(y_test)\n",
        "    pred = lb.transform(pred)\n",
        "    return roc_auc_score(y_test, pred, average=average)"
      ],
      "execution_count": null,
      "outputs": []
    },
    {
      "cell_type": "code",
      "metadata": {
        "trusted": true,
        "id": "5WPFmXq20dXG",
        "colab_type": "code",
        "colab": {}
      },
      "source": [
        "n_estimators = [100,200,300,500]\n",
        "max_features = ['auto', 'sqrt']\n",
        "max_depth = [2,3,7,5,9]\n",
        "min_samples_split = [0.2,0.3,0.01]\n",
        "min_samples_leaf = [0.1,0.01,0.05,0.5,1, 2, 4,5,6]\n",
        "bootstrap = [True, False]\n",
        "random_grid = {'n_estimators': n_estimators,\n",
        "               'max_features': max_features,\n",
        "               'max_depth': max_depth,\n",
        "               'min_samples_split': min_samples_split,\n",
        "               'min_samples_leaf': min_samples_leaf,\n",
        "               'bootstrap': bootstrap}\n",
        "rf = XGBClassifier(verbose = True,gpu_id = 0,tree_method = 'gpu_hist')\n",
        "xgb = RandomizedSearchCV(estimator = rf, param_distributions = random_grid, n_iter = 1,\\\n",
        "                               cv = 2, verbose=2, random_state=42, n_jobs = -1)"
      ],
      "execution_count": null,
      "outputs": []
    },
    {
      "cell_type": "code",
      "metadata": {
        "trusted": true,
        "id": "CkcucZtF0dXJ",
        "colab_type": "code",
        "colab": {
          "base_uri": "https://localhost:8080/",
          "height": 118
        },
        "outputId": "25f33a7d-1bd9-4db8-d59f-5dfbf48d0052"
      },
      "source": [
        "model = xgb\n",
        "t1=datetime.now()\n",
        "model.fit(X_train,y_train)\n",
        "t2=datetime.now()\n",
        "execution_time_xgb = t2-t1\n",
        "t3 = datetime.now()\n",
        "y_pred = model.predict(X_test)\n",
        "t4 = datetime.now()\n",
        "predictions = [round(value) for value in y_pred]\n",
        "accuracy_xgb = round(accuracy_score(y_pred,y_test),5)\n",
        "print(\"Accuracy score = \",accuracy_xgb*100,\"%\")\n",
        "print(\"Execution time = \",execution_time_xgb)\n",
        "print(\"Prediction time = \",t4-t3)\n",
        "xgb_train_time = t2-t1"
      ],
      "execution_count": null,
      "outputs": [
        {
          "output_type": "stream",
          "text": [
            "Fitting 2 folds for each of 1 candidates, totalling 2 fits\n"
          ],
          "name": "stdout"
        },
        {
          "output_type": "stream",
          "text": [
            "[Parallel(n_jobs=-1)]: Using backend LokyBackend with 2 concurrent workers.\n",
            "[Parallel(n_jobs=-1)]: Done   2 out of   2 | elapsed:  2.5min finished\n"
          ],
          "name": "stderr"
        },
        {
          "output_type": "stream",
          "text": [
            "Accuracy score =  50.0 %\n",
            "Execution time =  0:04:07.713843\n",
            "Prediction time =  0:00:00.155914\n"
          ],
          "name": "stdout"
        }
      ]
    },
    {
      "cell_type": "code",
      "metadata": {
        "trusted": true,
        "id": "a535SIcz0dXM",
        "colab_type": "code",
        "colab": {}
      },
      "source": [
        "cb_hps = {  \n",
        "            'depth':              [2,3,4,5,6],\n",
        "            'l2_leaf_reg':        [2,3,5,10],\n",
        "            'random_seed':        [5,8,10],\n",
        "            'colsample_bylevel': [0.3,0.5,0.6],\n",
        "            #'n_estimators':      [100,200]\n",
        "        }\n",
        "cb = CatBoostClassifier(iterations=5, learning_rate=0.01,loss_function='MultiClass')\n",
        "cbt = RandomizedSearchCV(estimator = cb, param_distributions = cb_hps, n_iter = 1,\\\n",
        "                               cv = 2, verbose=2, random_state=42, n_jobs = -1)"
      ],
      "execution_count": null,
      "outputs": []
    },
    {
      "cell_type": "code",
      "metadata": {
        "trusted": true,
        "id": "Kn_9905y0dXO",
        "colab_type": "code",
        "colab": {
          "base_uri": "https://localhost:8080/",
          "height": 202
        },
        "outputId": "4e82ec3e-6bfc-44d6-8e17-927385b0b1f3"
      },
      "source": [
        "from sklearn.metrics import roc_auc_score\n",
        "model = cbt\n",
        "t1=datetime.now()\n",
        "model.fit(X_train,y_train)\n",
        "t2=datetime.now()\n",
        "execution_time_cat_boost = t2-t1\n",
        "t3 = datetime.now()\n",
        "pred = model.predict(X_test)\n",
        "#pred = model.predict_proba(X_test)[:,1]\n",
        "t4 = datetime.now()\n",
        "accuracy_cat_boost= multiclass_roc_auc_score(y_test, pred, average=\"macro\")\n",
        "#accuracy_cat_boost = round(roc_auc_score(y_test,pred,multi_class=\"ovr\",average=None),5)\n",
        "#roc_auc_score(y_score=np_pred, y_true=np_label, multi_class=\"ovr\",average=None)\n",
        "print(\"Accuracy score = \",accuracy_cat_boost*100,\"%\")\n",
        "print(\"Execution time = \",execution_time_cat_boost)\n",
        "print(\"Prediction time = \",t4-t3)\n",
        "cat_boost_train_time = t2-t1"
      ],
      "execution_count": null,
      "outputs": [
        {
          "output_type": "stream",
          "text": [
            "Fitting 2 folds for each of 1 candidates, totalling 2 fits\n"
          ],
          "name": "stdout"
        },
        {
          "output_type": "stream",
          "text": [
            "[Parallel(n_jobs=-1)]: Using backend LokyBackend with 2 concurrent workers.\n",
            "[Parallel(n_jobs=-1)]: Done   2 out of   2 | elapsed:   30.7s finished\n"
          ],
          "name": "stderr"
        },
        {
          "output_type": "stream",
          "text": [
            "0:\tlearn: 2.2983972\ttotal: 2.79s\tremaining: 11.2s\n",
            "1:\tlearn: 2.2939969\ttotal: 5.61s\tremaining: 8.41s\n",
            "2:\tlearn: 2.2895067\ttotal: 8.38s\tremaining: 5.58s\n",
            "3:\tlearn: 2.2856626\ttotal: 11.2s\tremaining: 2.81s\n",
            "4:\tlearn: 2.2814812\ttotal: 14s\tremaining: 0us\n",
            "Accuracy score =  59.19525158839003 %\n",
            "Execution time =  0:00:47.712426\n",
            "Prediction time =  0:00:00.022714\n"
          ],
          "name": "stdout"
        }
      ]
    },
    {
      "cell_type": "code",
      "metadata": {
        "trusted": true,
        "id": "labU0B8g0dXR",
        "colab_type": "code",
        "colab": {}
      },
      "source": [
        "from scipy.stats import randint as sp_randint\n",
        "from scipy.stats import uniform as sp_uniform\n",
        "fit_params={\"early_stopping_rounds\":30, \n",
        "            \"eval_set\" : [(X_test,y_test)],\n",
        "            'eval_names': ['valid'],\n",
        "            #'callbacks': [lgb.reset_parameter(learning_rate=learning_rate_010_decay_power_099)],\n",
        "            'verbose': 100,\n",
        "            'categorical_feature': 'auto'}\n",
        "param_test ={'num_leaves': sp_randint(5, 10), \n",
        "             'min_child_samples': sp_randint(100, 150), \n",
        "             'min_child_weight': [1e-3, 1e-2, 1e-1, 1],\n",
        "             'subsample': sp_uniform(loc=0.2, scale=0.8), \n",
        "             'colsample_bytree': sp_uniform(loc=0.4, scale=0.6),\n",
        "             'reg_alpha': [0, 1e-1, 1, 2],\n",
        "             'reg_lambda': [0, 1e-1, 1, 5]}\n",
        "             #This parameter defines the number of HP points to be tested\n",
        "n_HP_points_to_test = 1"
      ],
      "execution_count": null,
      "outputs": []
    },
    {
      "cell_type": "code",
      "metadata": {
        "trusted": true,
        "id": "jvf498gr0dXT",
        "colab_type": "code",
        "colab": {}
      },
      "source": [
        "clf = lgb.LGBMClassifier(objective = 'binary',max_depth=-1, random_state=42,\n",
        "                         silent=True, n_jobs=-1, n_estimators=50)\n",
        "gs = RandomizedSearchCV(\n",
        "    estimator=clf, param_distributions=param_test, \n",
        "    n_iter=n_HP_points_to_test,\n",
        "    #scoring='binary_logloss',\n",
        "    cv=2,\n",
        "    refit=True,\n",
        "    random_state=42,\n",
        "    n_jobs = -1,\n",
        "    verbose=True)"
      ],
      "execution_count": null,
      "outputs": []
    },
    {
      "cell_type": "code",
      "metadata": {
        "trusted": true,
        "id": "VwM3ChfQ0dXV",
        "colab_type": "code",
        "colab": {
          "base_uri": "https://localhost:8080/",
          "height": 185
        },
        "outputId": "be4804cd-e161-45ec-b219-11e58f740bbb"
      },
      "source": [
        "train_data=lgb.Dataset(X_train,label=y_train)\n",
        "\n",
        "num_round=50\n",
        "t1=datetime.now()\n",
        "gs.fit(X_train, y_train,**fit_params)\n",
        "t2=datetime.now()\n",
        "execution_time_lgbm = t2-t1\n",
        "t3 = datetime.now()\n",
        "ypred2=gs.predict(X_test)\n",
        "t4 = datetime.now()\n",
        "\n",
        "for i in range(0,len(ypred2)): \n",
        "    if ypred2[i] >=0.5:\n",
        "        ypred2[i] = 1\n",
        "    else:\n",
        "        ypred2[i] = 0\n",
        "accuracy_lgbm = round(accuracy_score(ypred2,y_test),5)\n",
        "print(\"Accuracy score = \",accuracy_lgbm*100,\"%\")\n",
        "print(\"Execution time = \",execution_time_lgbm)\n",
        "print(\"Prediction time = \",t4-t3)\n",
        "lgbm_train_time = t2-t1"
      ],
      "execution_count": null,
      "outputs": [
        {
          "output_type": "stream",
          "text": [
            "Fitting 2 folds for each of 1 candidates, totalling 2 fits\n"
          ],
          "name": "stdout"
        },
        {
          "output_type": "stream",
          "text": [
            "[Parallel(n_jobs=-1)]: Using backend LokyBackend with 2 concurrent workers.\n",
            "[Parallel(n_jobs=-1)]: Done   2 out of   2 | elapsed:  1.2min remaining:    0.0s\n",
            "[Parallel(n_jobs=-1)]: Done   2 out of   2 | elapsed:  1.2min finished\n"
          ],
          "name": "stderr"
        },
        {
          "output_type": "stream",
          "text": [
            "Training until validation scores don't improve for 30 rounds.\n",
            "Did not meet early stopping. Best iteration is:\n",
            "[50]\tvalid's multi_logloss: 1.67351\n",
            "Accuracy score =  12.0 %\n",
            "Execution time =  0:02:20.750169\n",
            "Prediction time =  0:00:00.005304\n"
          ],
          "name": "stdout"
        }
      ]
    },
    {
      "cell_type": "code",
      "metadata": {
        "trusted": true,
        "id": "SWvwUN9j0dXc",
        "colab_type": "code",
        "colab": {
          "base_uri": "https://localhost:8080/",
          "height": 756
        },
        "outputId": "485ec879-c666-46af-99cd-f6e0c6ae5136"
      },
      "source": [
        "gs.cv_results_"
      ],
      "execution_count": null,
      "outputs": [
        {
          "output_type": "execute_result",
          "data": {
            "text/plain": [
              "{'mean_fit_time': array([72.4467504]),\n",
              " 'mean_score_time': array([0.1873666]),\n",
              " 'mean_test_score': array([0.3905]),\n",
              " 'param_colsample_bytree': masked_array(data=[0.6247240713084175],\n",
              "              mask=[False],\n",
              "        fill_value='?',\n",
              "             dtype=object),\n",
              " 'param_min_child_samples': masked_array(data=[128],\n",
              "              mask=[False],\n",
              "        fill_value='?',\n",
              "             dtype=object),\n",
              " 'param_min_child_weight': masked_array(data=[0.1],\n",
              "              mask=[False],\n",
              "        fill_value='?',\n",
              "             dtype=object),\n",
              " 'param_num_leaves': masked_array(data=[7],\n",
              "              mask=[False],\n",
              "        fill_value='?',\n",
              "             dtype=object),\n",
              " 'param_reg_alpha': masked_array(data=[2],\n",
              "              mask=[False],\n",
              "        fill_value='?',\n",
              "             dtype=object),\n",
              " 'param_reg_lambda': masked_array(data=[0],\n",
              "              mask=[False],\n",
              "        fill_value='?',\n",
              "             dtype=object),\n",
              " 'param_subsample': masked_array(data=[0.6774801263571897],\n",
              "              mask=[False],\n",
              "        fill_value='?',\n",
              "             dtype=object),\n",
              " 'params': [{'colsample_bytree': 0.6247240713084175,\n",
              "   'min_child_samples': 128,\n",
              "   'min_child_weight': 0.1,\n",
              "   'num_leaves': 7,\n",
              "   'reg_alpha': 2,\n",
              "   'reg_lambda': 0,\n",
              "   'subsample': 0.6774801263571897}],\n",
              " 'rank_test_score': array([1], dtype=int32),\n",
              " 'split0_test_score': array([0.4]),\n",
              " 'split1_test_score': array([0.381]),\n",
              " 'std_fit_time': array([0.1783061]),\n",
              " 'std_score_time': array([0.00540626]),\n",
              " 'std_test_score': array([0.0095])}"
            ]
          },
          "metadata": {
            "tags": []
          },
          "execution_count": 22
        }
      ]
    },
    {
      "cell_type": "code",
      "metadata": {
        "trusted": true,
        "id": "itntjs6O0dXY",
        "colab_type": "code",
        "colab": {}
      },
      "source": [
        ""
      ],
      "execution_count": null,
      "outputs": []
    },
    {
      "cell_type": "code",
      "metadata": {
        "trusted": true,
        "id": "9PZgv_EU0dXa",
        "colab_type": "code",
        "colab": {},
        "outputId": "8068b84e-7922-40c9-cf9b-709388304638"
      },
      "source": [
        ""
      ],
      "execution_count": null,
      "outputs": [
        {
          "output_type": "error",
          "ename": "TypeError",
          "evalue": "'rv_frozen' object is not iterable",
          "traceback": [
            "\u001b[0;31m---------------------------------------------------------------------------\u001b[0m",
            "\u001b[0;31mTypeError\u001b[0m                                 Traceback (most recent call last)",
            "\u001b[0;32m<ipython-input-69-aad303f04c4b>\u001b[0m in \u001b[0;36m<module>\u001b[0;34m\u001b[0m\n\u001b[0;32m----> 1\u001b[0;31m \u001b[0mnum_leaves\u001b[0m \u001b[0;34m=\u001b[0m \u001b[0mlist\u001b[0m\u001b[0;34m(\u001b[0m\u001b[0msp_randint\u001b[0m\u001b[0;34m(\u001b[0m\u001b[0;36m5\u001b[0m\u001b[0;34m,\u001b[0m \u001b[0;36m10\u001b[0m\u001b[0;34m)\u001b[0m\u001b[0;34m)\u001b[0m\u001b[0;34m\u001b[0m\u001b[0;34m\u001b[0m\u001b[0m\n\u001b[0m\u001b[1;32m      2\u001b[0m \u001b[0msearch_plot\u001b[0m\u001b[0;34m(\u001b[0m\u001b[0mgs\u001b[0m\u001b[0;34m,\u001b[0m \u001b[0mparam_test\u001b[0m\u001b[0;34m[\u001b[0m\u001b[0;34m'num_leaves'\u001b[0m\u001b[0;34m]\u001b[0m\u001b[0;34m,\u001b[0m \u001b[0mparam_test\u001b[0m\u001b[0;34m[\u001b[0m\u001b[0;34m'min_child_samples'\u001b[0m\u001b[0;34m]\u001b[0m\u001b[0;34m,\u001b[0m \u001b[0;34m'Estimators Number'\u001b[0m\u001b[0;34m,\u001b[0m \u001b[0;34m'Max Features'\u001b[0m\u001b[0;34m)\u001b[0m\u001b[0;34m\u001b[0m\u001b[0;34m\u001b[0m\u001b[0m\n",
            "\u001b[0;31mTypeError\u001b[0m: 'rv_frozen' object is not iterable"
          ]
        }
      ]
    },
    {
      "cell_type": "code",
      "metadata": {
        "trusted": true,
        "id": "wdb_8PXb0dXh",
        "colab_type": "code",
        "colab": {}
      },
      "source": [
        ""
      ],
      "execution_count": null,
      "outputs": []
    }
  ]
}